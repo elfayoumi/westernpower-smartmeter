{
 "cells": [
  {
   "cell_type": "code",
   "execution_count": 1,
   "metadata": {},
   "outputs": [],
   "source": [
    "%matplotlib inline\n",
    "%reload_ext autoreload\n",
    "%autoreload 2"
   ]
  },
  {
   "cell_type": "code",
   "execution_count": 5,
   "metadata": {},
   "outputs": [],
   "source": [
    "import pandas as pd\n",
    "import numpy as np\n",
    "from random import sample, randint\n",
    "import os, datetime\n",
    "from pathlib import Path\n",
    "import itertools\n",
    "from sklearn.preprocessing import StandardScaler,MinMaxScaler\n",
    "import logging\n",
    "from datetime import timedelta\n",
    "import datetime\n",
    "import matplotlib.pyplot as plt\n",
    "import matplotlib as mpl\n",
    "import  warnings,sklearn\n",
    "import pickle\n",
    "# Import the email modules we'll need\n",
    "from sklearn.base import BaseEstimator, ClassifierMixin\n",
    "from email.message import EmailMessage\n",
    "from sklearn.model_selection import train_test_split\n",
    "from sklearn_pandas import DataFrameMapper\n",
    "from sklearn.pipeline import make_pipeline, make_union\n",
    "from tpot.builtins import StackingEstimator\n",
    "from pandas.api.types import is_string_dtype, is_numeric_dtype\n",
    "from sklearn.model_selection import train_test_split\n",
    "from sklearn.pipeline import make_pipeline\n",
    "from tensorflow.keras.models import Sequential, Model\n",
    "from tensorflow.keras.layers import BatchNormalization\n",
    "from tensorflow.keras.optimizers import Adam, Adadelta, SGD\n",
    "from tensorflow.keras.callbacks import ModelCheckpoint\n",
    "from tensorflow.keras import layers\n",
    "from tensorflow.keras import Input\n",
    "from tensorflow.keras.layers import Dense, Activation, Dropout\n",
    "from tensorflow.keras import regularizers\n",
    "import random\n",
    "from keras_multi_input import *\n"
   ]
  },
  {
   "cell_type": "code",
   "execution_count": 6,
   "metadata": {},
   "outputs": [],
   "source": [
    "current_directory = '.'\n",
    "log_file = os.path.join(current_directory, 'data/wp.log')\n",
    "feather_file = os.path.join(current_directory, 'data/total_data_filled.feather')\n",
    "df = pd.read_feather(feather_file)\n",
    "df = df.set_index([ 'index', 'day'])\n",
    "# read in the prepared data set\n",
    "logger = logging.getLogger('wp')\n",
    "logger.setLevel(logging.DEBUG)\n",
    "fh = logging.FileHandler(log_file)\n",
    "fh.setLevel(logging.INFO)\n",
    "ch = logging.StreamHandler()\n",
    "ch.setLevel(logging.DEBUG)\n",
    "# create formatter and add it to the handlers\n",
    "formatter = logging.Formatter('%(asctime)s - %(name)s - %(levelname)s - %(message)s')\n",
    "fh.setFormatter(formatter)\n",
    "ch.setFormatter(formatter)\n",
    "# add the handlers to the logger\n",
    "logger.addHandler(fh)\n",
    "logger.addHandler(ch)\n",
    "# date_fields = [\"temperatureMaxTime\", \"temperatureMinTime\", \"apparentTemperatureMinTime\",\n",
    "#                 \"apparentTemperatureHighTime\",\"sunsetTime\", \"uvIndexTime\"  ,\"sunriseTime\",\"temperatureHighTime\", \"temperatureLowTime\", \n",
    "#                  \"apparentTemperatureMaxTime\",\n",
    "#                  \"apparentTemperatureLowTime\"]\n",
    "\n",
    "# for date_field in date_fields:\n",
    "#     name = date_field.replace('Time', 'Hour')\n",
    "#     df[name] = df[date_field].apply(lambda x: x.hour)\n",
    "df = df.drop([ 'energy_count', \"temperatureMaxTime\", \"temperatureMinTime\", \"apparentTemperatureMinTime\",\n",
    "                \"apparentTemperatureHighTime\",\"sunsetTime\", \"uvIndexTime\"  ,\"sunriseTime\",\"temperatureHighTime\", \"temperatureLowTime\", \n",
    "                 \"apparentTemperatureMaxTime\",\n",
    "                 \"apparentTemperatureLowTime\", 'year'], axis = 1)\n",
    "\n"
   ]
  },
  {
   "cell_type": "code",
   "execution_count": 7,
   "metadata": {},
   "outputs": [
    {
     "name": "stderr",
     "output_type": "stream",
     "text": [
      "2020-02-14 20:35:52,176 - wp - INFO -                           LCLid  energy_sum stdorToU    Acorn Acorn_grouped  \\\n",
      "index     day                                                                 \n",
      "MAC000002 2012-10-12  MAC000002       7.098      Std  ACORN-A      Affluent   \n",
      "          2012-10-13  MAC000002      11.087      Std  ACORN-A      Affluent   \n",
      "          2012-10-14  MAC000002      13.223      Std  ACORN-A      Affluent   \n",
      "          2012-10-15  MAC000002      10.257      Std  ACORN-A      Affluent   \n",
      "          2012-10-16  MAC000002       9.769      Std  ACORN-A      Affluent   \n",
      "\n",
      "                      temperatureMax  windBearing               icon  \\\n",
      "index     day                                                          \n",
      "MAC000002 2012-10-12           11.53        252.0  partly-cloudy-day   \n",
      "          2012-10-13           12.32        300.0  partly-cloudy-day   \n",
      "          2012-10-14           13.03        220.0  partly-cloudy-day   \n",
      "          2012-10-15           14.74        226.0               wind   \n",
      "          2012-10-16           16.60        178.0  partly-cloudy-day   \n",
      "\n",
      "                      dewPoint  cloudCover  ...  temperatureMinHour  \\\n",
      "index     day                               ...                       \n",
      "MAC000002 2012-10-12      6.15        0.29  ...                22.0   \n",
      "          2012-10-13      4.10        0.20  ...                 7.0   \n",
      "          2012-10-14      6.39        0.31  ...                 3.0   \n",
      "          2012-10-15      6.91        0.39  ...                21.0   \n",
      "          2012-10-16      9.87        0.42  ...                23.0   \n",
      "\n",
      "                      apparentTemperatureMinHour  apparentTemperatureHighHour  \\\n",
      "index     day                                                                   \n",
      "MAC000002 2012-10-12                        22.0                         14.0   \n",
      "          2012-10-13                         6.0                         14.0   \n",
      "          2012-10-14                         4.0                         14.0   \n",
      "          2012-10-15                         6.0                         14.0   \n",
      "          2012-10-16                        23.0                         13.0   \n",
      "\n",
      "                     sunsetHour  uvIndexHour  sunriseHour  \\\n",
      "index     day                                               \n",
      "MAC000002 2012-10-12       17.0         12.0          6.0   \n",
      "          2012-10-13       17.0         12.0          6.0   \n",
      "          2012-10-14       17.0          9.0          6.0   \n",
      "          2012-10-15       17.0          9.0          6.0   \n",
      "          2012-10-16       17.0          9.0          6.0   \n",
      "\n",
      "                      temperatureHighHour  temperatureLowHour  \\\n",
      "index     day                                                   \n",
      "MAC000002 2012-10-12                 14.0                 7.0   \n",
      "          2012-10-13                 14.0                 3.0   \n",
      "          2012-10-14                 14.0                 5.0   \n",
      "          2012-10-15                 14.0                23.0   \n",
      "          2012-10-16                 13.0                 7.0   \n",
      "\n",
      "                      apparentTemperatureMaxHour  apparentTemperatureLowHour  \n",
      "index     day                                                                 \n",
      "MAC000002 2012-10-12                        14.0                         6.0  \n",
      "          2012-10-13                        14.0                         4.0  \n",
      "          2012-10-14                        14.0                         6.0  \n",
      "          2012-10-15                        14.0                        23.0  \n",
      "          2012-10-16                        13.0                         7.0  \n",
      "\n",
      "[5 rows x 44 columns]\n"
     ]
    }
   ],
   "source": [
    "df = df.drop([ 'energy_mean', 'energy_max', 'energy_std','energy_min', \n",
    "              'energy_skewness', 'energy_kurtosis', \n",
    "              'energy_median','energey_max_usage_hour'], \n",
    "              axis = 1)\n",
    "\n",
    "logger.info(df.head())\n",
    "\n",
    "validation_days = 15"
   ]
  },
  {
   "cell_type": "code",
   "execution_count": 8,
   "metadata": {},
   "outputs": [
    {
     "name": "stderr",
     "output_type": "stream",
     "text": [
      "2020-02-14 20:35:57,504 - wp - INFO - ['LCLid', 'Acorn', 'Acorn_grouped', 'icon', 'stdorToU', 'Type', 'day.of.week', 'precipType', 'summary', 'before_holiday', 'after_holiday', 'month']\n",
      "2020-02-14 20:36:04,016 - wp - INFO - [(5567, 50), (20, 10), (6, 3), (7, 4), (3, 2), (13, 7), (8, 4), (3, 2), (87, 44), (7, 4), (7, 4), (13, 7)]\n"
     ]
    }
   ],
   "source": [
    "categorical_columns = ['LCLid','Acorn', 'Acorn_grouped', \"icon\", \"stdorToU\", \"Type\", \"day.of.week\", 'precipType',  'summary', 'before_holiday', 'after_holiday', 'month']\n",
    "non_categorical_columns =list(filter(lambda x: x not in categorical_columns, df.columns))\n",
    "\n",
    "label_column = 'energy_sum'\n",
    "logger.info(categorical_columns)\n",
    "\n",
    "for v in categorical_columns:\n",
    "    df[v] = df[v].astype('category').cat.as_ordered()\n",
    "for v in non_categorical_columns:\n",
    "    df[v] = df[v].astype('float32')\n",
    "cat_sz = [(c, len(df[c].cat.categories)+1) for c in categorical_columns]\n",
    "emb_szs = [(c, min(50, (c+1)//2)) for _,c in cat_sz]\n",
    "logger.info(emb_szs)"
   ]
  },
  {
   "cell_type": "code",
   "execution_count": 9,
   "metadata": {},
   "outputs": [
    {
     "name": "stderr",
     "output_type": "stream",
     "text": [
      "2020-02-14 20:36:36,825 - wp - INFO - LCLid                            int16\n",
      "Acorn                             int8\n",
      "Acorn_grouped                     int8\n",
      "icon                              int8\n",
      "stdorToU                          int8\n",
      "Type                              int8\n",
      "day.of.week                       int8\n",
      "precipType                        int8\n",
      "summary                           int8\n",
      "before_holiday                    int8\n",
      "after_holiday                     int8\n",
      "month                             int8\n",
      "temperatureMax                 float64\n",
      "windBearing                    float64\n",
      "dewPoint                       float64\n",
      "cloudCover                     float64\n",
      "windSpeed                      float64\n",
      "pressure                       float64\n",
      "apparentTemperatureHigh        float64\n",
      "visibility                     float64\n",
      "humidity                       float64\n",
      "apparentTemperatureLow         float64\n",
      "apparentTemperatureMax         float64\n",
      "uvIndex                        float64\n",
      "temperatureLow                 float64\n",
      "temperatureMin                 float64\n",
      "temperatureHigh                float64\n",
      "apparentTemperatureMin         float64\n",
      "moonPhase                      float64\n",
      "temperature_skewness           float64\n",
      "temperature_kurtosis           float64\n",
      "day_length                     float64\n",
      "temperatureMaxHour             float64\n",
      "temperatureMinHour             float64\n",
      "apparentTemperatureMinHour     float64\n",
      "apparentTemperatureHighHour    float64\n",
      "sunsetHour                     float64\n",
      "uvIndexHour                    float64\n",
      "sunriseHour                    float64\n",
      "temperatureHighHour            float64\n",
      "temperatureLowHour             float64\n",
      "apparentTemperatureMaxHour     float64\n",
      "apparentTemperatureLowHour     float64\n",
      "dtype: object\n"
     ]
    }
   ],
   "source": [
    "df, y, nas, mapper = proc_df(df, y_fld=label_column,  do_scale=True)\n",
    "non_categorical_columns =list(filter(lambda x: x not in categorical_columns, df.columns))\n",
    "df = df[categorical_columns + non_categorical_columns ]\n",
    "logger.info(df.dtypes)\n"
   ]
  },
  {
   "cell_type": "code",
   "execution_count": 10,
   "metadata": {},
   "outputs": [
    {
     "name": "stderr",
     "output_type": "stream",
     "text": [
      "2020-02-14 20:36:36,852 - wp - INFO -                       LCLid  Acorn  Acorn_grouped  icon  stdorToU  Type  \\\n",
      "index     day                                                             \n",
      "MAC000002 2012-10-12      1      2              4     4         1     8   \n",
      "          2012-10-13      1      2              4     4         1     8   \n",
      "          2012-10-14      1      2              4     4         1     8   \n",
      "          2012-10-15      1      2              4     6         1     8   \n",
      "          2012-10-16      1      2              4     4         1     8   \n",
      "\n",
      "                      day.of.week  precipType  summary  before_holiday  ...  \\\n",
      "index     day                                                           ...   \n",
      "MAC000002 2012-10-12            1           1       84               6  ...   \n",
      "          2012-10-13            3           1       65               6  ...   \n",
      "          2012-10-14            4           1       74               6  ...   \n",
      "          2012-10-15            2           1       72               6  ...   \n",
      "          2012-10-16            6           1       74               6  ...   \n",
      "\n",
      "                      temperatureMinHour  apparentTemperatureMinHour  \\\n",
      "index     day                                                          \n",
      "MAC000002 2012-10-12            1.644256                    1.771546   \n",
      "          2012-10-13           -0.256139                   -0.349269   \n",
      "          2012-10-14           -0.762911                   -0.614371   \n",
      "          2012-10-15            1.517563                   -0.349269   \n",
      "          2012-10-16            1.770949                    1.904097   \n",
      "\n",
      "                      apparentTemperatureHighHour  sunsetHour  uvIndexHour  \\\n",
      "index     day                                                                \n",
      "MAC000002 2012-10-12                    -0.100367   -0.341909     0.767746   \n",
      "          2012-10-13                    -0.100367   -0.341909     0.767746   \n",
      "          2012-10-14                    -0.100367   -0.341909    -0.857826   \n",
      "          2012-10-15                    -0.100367   -0.341909    -0.857826   \n",
      "          2012-10-16                    -0.546164   -0.341909    -0.857826   \n",
      "\n",
      "                      sunriseHour  temperatureHighHour  temperatureLowHour  \\\n",
      "index     day                                                                \n",
      "MAC000002 2012-10-12     0.319168            -0.088993            0.135291   \n",
      "          2012-10-13     0.319168            -0.088993           -0.667537   \n",
      "          2012-10-14     0.319168            -0.088993           -0.266123   \n",
      "          2012-10-15     0.319168            -0.088993            3.346599   \n",
      "          2012-10-16     0.319168            -0.569784            0.135291   \n",
      "\n",
      "                      apparentTemperatureMaxHour  apparentTemperatureLowHour  \n",
      "index     day                                                                 \n",
      "MAC000002 2012-10-12                    0.065707                   -0.154603  \n",
      "          2012-10-13                    0.065707                   -0.507284  \n",
      "          2012-10-14                    0.065707                   -0.154603  \n",
      "          2012-10-15                    0.065707                    2.843185  \n",
      "          2012-10-16                   -0.146045                    0.021738  \n",
      "\n",
      "[5 rows x 43 columns]\n"
     ]
    }
   ],
   "source": [
    "logger.info(df.head())"
   ]
  },
  {
   "cell_type": "code",
   "execution_count": 11,
   "metadata": {},
   "outputs": [
    {
     "name": "stderr",
     "output_type": "stream",
     "text": [
      "2020-02-14 20:36:36,883 - wp - INFO - Index(['LCLid', 'Acorn', 'Acorn_grouped', 'icon', 'stdorToU', 'Type',\n",
      "       'day.of.week', 'precipType', 'summary', 'before_holiday',\n",
      "       'after_holiday', 'month', 'temperatureMax', 'windBearing', 'dewPoint',\n",
      "       'cloudCover', 'windSpeed', 'pressure', 'apparentTemperatureHigh',\n",
      "       'visibility', 'humidity', 'apparentTemperatureLow',\n",
      "       'apparentTemperatureMax', 'uvIndex', 'temperatureLow', 'temperatureMin',\n",
      "       'temperatureHigh', 'apparentTemperatureMin', 'moonPhase',\n",
      "       'temperature_skewness', 'temperature_kurtosis', 'day_length',\n",
      "       'temperatureMaxHour', 'temperatureMinHour',\n",
      "       'apparentTemperatureMinHour', 'apparentTemperatureHighHour',\n",
      "       'sunsetHour', 'uvIndexHour', 'sunriseHour', 'temperatureHighHour',\n",
      "       'temperatureLowHour', 'apparentTemperatureMaxHour',\n",
      "       'apparentTemperatureLowHour'],\n",
      "      dtype='object')\n"
     ]
    }
   ],
   "source": [
    "logger.info(df.columns)"
   ]
  },
  {
   "cell_type": "code",
   "execution_count": 12,
   "metadata": {},
   "outputs": [],
   "source": [
    "max_date = max(df.index)[1]\n",
    "valid_start_day = max_date - timedelta(days=validation_days) \n",
    "\n",
    "train_idx = list(filter(lambda t: t[1] < valid_start_day, df.index))\n",
    "valid_idx = list(filter(lambda t: t[1] >= valid_start_day, df.index))\n",
    "max_y = max(y)*1.1\n",
    "y = pd.DataFrame(y, index = df.index, columns=['Value'])\n",
    "X_train = df.loc[train_idx]\n",
    "y_train = y.loc[train_idx].values.reshape(-1,1)\n",
    "X_valid = df.loc[valid_idx]\n",
    "y_valid = y.loc[valid_idx].values.reshape(-1,1)\n",
    "y_train = y_train/max_y\n",
    "y_valid = y_valid/max_y\n",
    "    "
   ]
  },
  {
   "cell_type": "code",
   "execution_count": 13,
   "metadata": {},
   "outputs": [
    {
     "name": "stderr",
     "output_type": "stream",
     "text": [
      "2020-02-14 20:38:36,568 - wp - INFO - None\n"
     ]
    },
    {
     "name": "stdout",
     "output_type": "stream",
     "text": [
      "Model: \"model\"\n",
      "__________________________________________________________________________________________________\n",
      "Layer (type)                    Output Shape         Param #     Connected to                     \n",
      "==================================================================================================\n",
      "LCLid (InputLayer)              [(None, 1)]          0                                            \n",
      "__________________________________________________________________________________________________\n",
      "Acorn (InputLayer)              [(None, 1)]          0                                            \n",
      "__________________________________________________________________________________________________\n",
      "Acorn_grouped (InputLayer)      [(None, 1)]          0                                            \n",
      "__________________________________________________________________________________________________\n",
      "icon (InputLayer)               [(None, 1)]          0                                            \n",
      "__________________________________________________________________________________________________\n",
      "stdorToU (InputLayer)           [(None, 1)]          0                                            \n",
      "__________________________________________________________________________________________________\n",
      "Type (InputLayer)               [(None, 1)]          0                                            \n",
      "__________________________________________________________________________________________________\n",
      "day.of.week (InputLayer)        [(None, 1)]          0                                            \n",
      "__________________________________________________________________________________________________\n",
      "precipType (InputLayer)         [(None, 1)]          0                                            \n",
      "__________________________________________________________________________________________________\n",
      "summary (InputLayer)            [(None, 1)]          0                                            \n",
      "__________________________________________________________________________________________________\n",
      "before_holiday (InputLayer)     [(None, 1)]          0                                            \n",
      "__________________________________________________________________________________________________\n",
      "after_holiday (InputLayer)      [(None, 1)]          0                                            \n",
      "__________________________________________________________________________________________________\n",
      "month (InputLayer)              [(None, 1)]          0                                            \n",
      "__________________________________________________________________________________________________\n",
      "embedding (Embedding)           (None, 1, 50)        278350      LCLid[0][0]                      \n",
      "__________________________________________________________________________________________________\n",
      "embedding_1 (Embedding)         (None, 1, 10)        200         Acorn[0][0]                      \n",
      "__________________________________________________________________________________________________\n",
      "embedding_2 (Embedding)         (None, 1, 3)         18          Acorn_grouped[0][0]              \n",
      "__________________________________________________________________________________________________\n",
      "embedding_3 (Embedding)         (None, 1, 4)         28          icon[0][0]                       \n",
      "__________________________________________________________________________________________________\n",
      "embedding_4 (Embedding)         (None, 1, 2)         6           stdorToU[0][0]                   \n",
      "__________________________________________________________________________________________________\n",
      "embedding_5 (Embedding)         (None, 1, 7)         91          Type[0][0]                       \n",
      "__________________________________________________________________________________________________\n",
      "embedding_6 (Embedding)         (None, 1, 4)         32          day.of.week[0][0]                \n",
      "__________________________________________________________________________________________________\n",
      "embedding_7 (Embedding)         (None, 1, 2)         6           precipType[0][0]                 \n",
      "__________________________________________________________________________________________________\n",
      "embedding_8 (Embedding)         (None, 1, 44)        3828        summary[0][0]                    \n",
      "__________________________________________________________________________________________________\n",
      "embedding_9 (Embedding)         (None, 1, 4)         28          before_holiday[0][0]             \n",
      "__________________________________________________________________________________________________\n",
      "embedding_10 (Embedding)        (None, 1, 4)         28          after_holiday[0][0]              \n",
      "__________________________________________________________________________________________________\n",
      "embedding_11 (Embedding)        (None, 1, 7)         91          month[0][0]                      \n",
      "__________________________________________________________________________________________________\n",
      "flatten (Flatten)               (None, 50)           0           embedding[0][0]                  \n",
      "__________________________________________________________________________________________________\n",
      "flatten_1 (Flatten)             (None, 10)           0           embedding_1[0][0]                \n",
      "__________________________________________________________________________________________________\n",
      "flatten_2 (Flatten)             (None, 3)            0           embedding_2[0][0]                \n",
      "__________________________________________________________________________________________________\n",
      "flatten_3 (Flatten)             (None, 4)            0           embedding_3[0][0]                \n",
      "__________________________________________________________________________________________________\n",
      "flatten_4 (Flatten)             (None, 2)            0           embedding_4[0][0]                \n",
      "__________________________________________________________________________________________________\n",
      "flatten_5 (Flatten)             (None, 7)            0           embedding_5[0][0]                \n",
      "__________________________________________________________________________________________________\n",
      "flatten_6 (Flatten)             (None, 4)            0           embedding_6[0][0]                \n",
      "__________________________________________________________________________________________________\n",
      "flatten_7 (Flatten)             (None, 2)            0           embedding_7[0][0]                \n",
      "__________________________________________________________________________________________________\n",
      "flatten_8 (Flatten)             (None, 44)           0           embedding_8[0][0]                \n",
      "__________________________________________________________________________________________________\n",
      "flatten_9 (Flatten)             (None, 4)            0           embedding_9[0][0]                \n",
      "__________________________________________________________________________________________________\n",
      "flatten_10 (Flatten)            (None, 4)            0           embedding_10[0][0]               \n",
      "__________________________________________________________________________________________________\n",
      "flatten_11 (Flatten)            (None, 7)            0           embedding_11[0][0]               \n",
      "__________________________________________________________________________________________________\n",
      "continuouse (InputLayer)        [(None, 31)]         0                                            \n",
      "__________________________________________________________________________________________________\n",
      "concatenate (Concatenate)       (None, 172)          0           flatten[0][0]                    \n",
      "                                                                 flatten_1[0][0]                  \n",
      "                                                                 flatten_2[0][0]                  \n",
      "                                                                 flatten_3[0][0]                  \n",
      "                                                                 flatten_4[0][0]                  \n",
      "                                                                 flatten_5[0][0]                  \n",
      "                                                                 flatten_6[0][0]                  \n",
      "                                                                 flatten_7[0][0]                  \n",
      "                                                                 flatten_8[0][0]                  \n",
      "                                                                 flatten_9[0][0]                  \n",
      "                                                                 flatten_10[0][0]                 \n",
      "                                                                 flatten_11[0][0]                 \n",
      "                                                                 continuouse[0][0]                \n",
      "__________________________________________________________________________________________________\n",
      "dense (Dense)                   (None, 64)           11072       concatenate[0][0]                \n",
      "__________________________________________________________________________________________________\n",
      "batch_normalization (BatchNorma (None, 64)           256         dense[0][0]                      \n",
      "__________________________________________________________________________________________________\n",
      "dense_1 (Dense)                 (None, 16)           1040        batch_normalization[0][0]        \n",
      "__________________________________________________________________________________________________\n",
      "batch_normalization_1 (BatchNor (None, 16)           64          dense_1[0][0]                    \n",
      "__________________________________________________________________________________________________\n",
      "dense_2 (Dense)                 (None, 1)            17          batch_normalization_1[0][0]      \n",
      "==================================================================================================\n",
      "Total params: 295,155\n",
      "Trainable params: 294,995\n",
      "Non-trainable params: 160\n",
      "__________________________________________________________________________________________________\n"
     ]
    }
   ],
   "source": [
    "#model setup\n",
    "batch_size=200\n",
    "epochs=20\n",
    "lr = 0.01\n",
    "l2_reg= 0.0\n",
    "\n",
    "cat_input = [Input(shape=(1,), dtype='int32', name=c) for c in categorical_columns]\n",
    "all_layers = []\n",
    "for i in range(len(cat_input)):\n",
    "    emb = layers.Embedding(emb_szs[i][0], emb_szs[i][1])(cat_input[i])\n",
    "    flat = layers.Flatten()(emb)\n",
    "    all_layers.append(flat)\n",
    "\n",
    "contInput = Input(shape=(len(non_categorical_columns),), dtype='float32', name='continuouse')\n",
    "all_layers.append(contInput)\n",
    "lay = layers.concatenate(all_layers, axis =-1)\n",
    "\n",
    "#lay = BatchNormalization()(lay)\n",
    "lay = Dense(64, activation='relu', kernel_regularizer=regularizers.l2(l2_reg))(lay)\n",
    "lay = BatchNormalization()(lay)\n",
    "lay = Dense(16, activation='relu', kernel_regularizer=regularizers.l2(l2_reg))(lay)\n",
    "lay = BatchNormalization()(lay)\n",
    "answer = layers.Dense(1, activation='sigmoid')(lay)\n",
    "inputs_all = cat_input\n",
    "inputs_all.append(contInput)\n",
    "model = Model(inputs_all, answer)\n",
    "logger.info(model.summary())\n",
    "adam = Adam(lr=lr)\n",
    "model.compile(loss='binary_crossentropy', optimizer=adam,metrics=['mse', 'mae'])"
   ]
  },
  {
   "cell_type": "code",
   "execution_count": 21,
   "metadata": {},
   "outputs": [
    {
     "name": "stdout",
     "output_type": "stream",
     "text": [
      "Train on 6904877 samples, validate on 152624 samples\n",
      "Epoch 1/20\n",
      " - 399s - loss: nan - mean_squared_error: nan - mean_absolute_error: nan - val_loss: 15.6909 - val_mean_squared_error: nan - val_mean_absolute_error: nan\n",
      "\n",
      "Epoch 00001: val_loss improved from inf to 15.69089, saving model to ./data/separate_LcLid.hdf5\n",
      "Epoch 2/20\n"
     ]
    },
    {
     "ename": "KeyboardInterrupt",
     "evalue": "",
     "output_type": "error",
     "traceback": [
      "\u001b[1;31m---------------------------------------------------------------------------\u001b[0m",
      "\u001b[1;31mKeyboardInterrupt\u001b[0m                         Traceback (most recent call last)",
      "\u001b[1;32m<ipython-input-21-49658f25662f>\u001b[0m in \u001b[0;36m<module>\u001b[1;34m()\u001b[0m\n\u001b[0;32m     14\u001b[0m                              \u001b[0mverbose\u001b[0m\u001b[1;33m=\u001b[0m\u001b[1;36m2\u001b[0m\u001b[1;33m,\u001b[0m \u001b[0mshuffle\u001b[0m\u001b[1;33m=\u001b[0m\u001b[1;32mTrue\u001b[0m\u001b[1;33m,\u001b[0m\u001b[1;33m\u001b[0m\u001b[0m\n\u001b[0;32m     15\u001b[0m                              \u001b[1;31m#validation_split=0.2,\u001b[0m\u001b[1;33m\u001b[0m\u001b[1;33m\u001b[0m\u001b[0m\n\u001b[1;32m---> 16\u001b[1;33m                              callbacks=[checkpointer])\n\u001b[0m",
      "\u001b[1;32mC:\\Program Files (x86)\\Microsoft Visual Studio\\Shared\\Anaconda3_64\\lib\\site-packages\\keras\\engine\\training.py\u001b[0m in \u001b[0;36mfit\u001b[1;34m(self, x, y, batch_size, epochs, verbose, callbacks, validation_split, validation_data, shuffle, class_weight, sample_weight, initial_epoch, steps_per_epoch, validation_steps, **kwargs)\u001b[0m\n\u001b[0;32m   1037\u001b[0m                                         \u001b[0minitial_epoch\u001b[0m\u001b[1;33m=\u001b[0m\u001b[0minitial_epoch\u001b[0m\u001b[1;33m,\u001b[0m\u001b[1;33m\u001b[0m\u001b[0m\n\u001b[0;32m   1038\u001b[0m                                         \u001b[0msteps_per_epoch\u001b[0m\u001b[1;33m=\u001b[0m\u001b[0msteps_per_epoch\u001b[0m\u001b[1;33m,\u001b[0m\u001b[1;33m\u001b[0m\u001b[0m\n\u001b[1;32m-> 1039\u001b[1;33m                                         validation_steps=validation_steps)\n\u001b[0m\u001b[0;32m   1040\u001b[0m \u001b[1;33m\u001b[0m\u001b[0m\n\u001b[0;32m   1041\u001b[0m     def evaluate(self, x=None, y=None,\n",
      "\u001b[1;32mC:\\Program Files (x86)\\Microsoft Visual Studio\\Shared\\Anaconda3_64\\lib\\site-packages\\keras\\engine\\training_arrays.py\u001b[0m in \u001b[0;36mfit_loop\u001b[1;34m(model, f, ins, out_labels, batch_size, epochs, verbose, callbacks, val_f, val_ins, shuffle, callback_metrics, initial_epoch, steps_per_epoch, validation_steps)\u001b[0m\n\u001b[0;32m    197\u001b[0m                     \u001b[0mins_batch\u001b[0m\u001b[1;33m[\u001b[0m\u001b[0mi\u001b[0m\u001b[1;33m]\u001b[0m \u001b[1;33m=\u001b[0m \u001b[0mins_batch\u001b[0m\u001b[1;33m[\u001b[0m\u001b[0mi\u001b[0m\u001b[1;33m]\u001b[0m\u001b[1;33m.\u001b[0m\u001b[0mtoarray\u001b[0m\u001b[1;33m(\u001b[0m\u001b[1;33m)\u001b[0m\u001b[1;33m\u001b[0m\u001b[0m\n\u001b[0;32m    198\u001b[0m \u001b[1;33m\u001b[0m\u001b[0m\n\u001b[1;32m--> 199\u001b[1;33m                 \u001b[0mouts\u001b[0m \u001b[1;33m=\u001b[0m \u001b[0mf\u001b[0m\u001b[1;33m(\u001b[0m\u001b[0mins_batch\u001b[0m\u001b[1;33m)\u001b[0m\u001b[1;33m\u001b[0m\u001b[0m\n\u001b[0m\u001b[0;32m    200\u001b[0m                 \u001b[0mouts\u001b[0m \u001b[1;33m=\u001b[0m \u001b[0mto_list\u001b[0m\u001b[1;33m(\u001b[0m\u001b[0mouts\u001b[0m\u001b[1;33m)\u001b[0m\u001b[1;33m\u001b[0m\u001b[0m\n\u001b[0;32m    201\u001b[0m                 \u001b[1;32mfor\u001b[0m \u001b[0ml\u001b[0m\u001b[1;33m,\u001b[0m \u001b[0mo\u001b[0m \u001b[1;32min\u001b[0m \u001b[0mzip\u001b[0m\u001b[1;33m(\u001b[0m\u001b[0mout_labels\u001b[0m\u001b[1;33m,\u001b[0m \u001b[0mouts\u001b[0m\u001b[1;33m)\u001b[0m\u001b[1;33m:\u001b[0m\u001b[1;33m\u001b[0m\u001b[0m\n",
      "\u001b[1;32mC:\\Program Files (x86)\\Microsoft Visual Studio\\Shared\\Anaconda3_64\\lib\\site-packages\\keras\\backend\\tensorflow_backend.py\u001b[0m in \u001b[0;36m__call__\u001b[1;34m(self, inputs)\u001b[0m\n\u001b[0;32m   2713\u001b[0m                 \u001b[1;32mreturn\u001b[0m \u001b[0mself\u001b[0m\u001b[1;33m.\u001b[0m\u001b[0m_legacy_call\u001b[0m\u001b[1;33m(\u001b[0m\u001b[0minputs\u001b[0m\u001b[1;33m)\u001b[0m\u001b[1;33m\u001b[0m\u001b[0m\n\u001b[0;32m   2714\u001b[0m \u001b[1;33m\u001b[0m\u001b[0m\n\u001b[1;32m-> 2715\u001b[1;33m             \u001b[1;32mreturn\u001b[0m \u001b[0mself\u001b[0m\u001b[1;33m.\u001b[0m\u001b[0m_call\u001b[0m\u001b[1;33m(\u001b[0m\u001b[0minputs\u001b[0m\u001b[1;33m)\u001b[0m\u001b[1;33m\u001b[0m\u001b[0m\n\u001b[0m\u001b[0;32m   2716\u001b[0m         \u001b[1;32melse\u001b[0m\u001b[1;33m:\u001b[0m\u001b[1;33m\u001b[0m\u001b[0m\n\u001b[0;32m   2717\u001b[0m             \u001b[1;32mif\u001b[0m \u001b[0mpy_any\u001b[0m\u001b[1;33m(\u001b[0m\u001b[0mis_tensor\u001b[0m\u001b[1;33m(\u001b[0m\u001b[0mx\u001b[0m\u001b[1;33m)\u001b[0m \u001b[1;32mfor\u001b[0m \u001b[0mx\u001b[0m \u001b[1;32min\u001b[0m \u001b[0minputs\u001b[0m\u001b[1;33m)\u001b[0m\u001b[1;33m:\u001b[0m\u001b[1;33m\u001b[0m\u001b[0m\n",
      "\u001b[1;32mC:\\Program Files (x86)\\Microsoft Visual Studio\\Shared\\Anaconda3_64\\lib\\site-packages\\keras\\backend\\tensorflow_backend.py\u001b[0m in \u001b[0;36m_call\u001b[1;34m(self, inputs)\u001b[0m\n\u001b[0;32m   2673\u001b[0m             \u001b[0mfetched\u001b[0m \u001b[1;33m=\u001b[0m \u001b[0mself\u001b[0m\u001b[1;33m.\u001b[0m\u001b[0m_callable_fn\u001b[0m\u001b[1;33m(\u001b[0m\u001b[1;33m*\u001b[0m\u001b[0marray_vals\u001b[0m\u001b[1;33m,\u001b[0m \u001b[0mrun_metadata\u001b[0m\u001b[1;33m=\u001b[0m\u001b[0mself\u001b[0m\u001b[1;33m.\u001b[0m\u001b[0mrun_metadata\u001b[0m\u001b[1;33m)\u001b[0m\u001b[1;33m\u001b[0m\u001b[0m\n\u001b[0;32m   2674\u001b[0m         \u001b[1;32melse\u001b[0m\u001b[1;33m:\u001b[0m\u001b[1;33m\u001b[0m\u001b[0m\n\u001b[1;32m-> 2675\u001b[1;33m             \u001b[0mfetched\u001b[0m \u001b[1;33m=\u001b[0m \u001b[0mself\u001b[0m\u001b[1;33m.\u001b[0m\u001b[0m_callable_fn\u001b[0m\u001b[1;33m(\u001b[0m\u001b[1;33m*\u001b[0m\u001b[0marray_vals\u001b[0m\u001b[1;33m)\u001b[0m\u001b[1;33m\u001b[0m\u001b[0m\n\u001b[0m\u001b[0;32m   2676\u001b[0m         \u001b[1;32mreturn\u001b[0m \u001b[0mfetched\u001b[0m\u001b[1;33m[\u001b[0m\u001b[1;33m:\u001b[0m\u001b[0mlen\u001b[0m\u001b[1;33m(\u001b[0m\u001b[0mself\u001b[0m\u001b[1;33m.\u001b[0m\u001b[0moutputs\u001b[0m\u001b[1;33m)\u001b[0m\u001b[1;33m]\u001b[0m\u001b[1;33m\u001b[0m\u001b[0m\n\u001b[0;32m   2677\u001b[0m \u001b[1;33m\u001b[0m\u001b[0m\n",
      "\u001b[1;32mC:\\Program Files (x86)\\Microsoft Visual Studio\\Shared\\Anaconda3_64\\lib\\site-packages\\tensorflow\\python\\client\\session.py\u001b[0m in \u001b[0;36m__call__\u001b[1;34m(self, *args)\u001b[0m\n\u001b[0;32m   1449\u001b[0m         \u001b[1;32mif\u001b[0m \u001b[0mself\u001b[0m\u001b[1;33m.\u001b[0m\u001b[0m_session\u001b[0m\u001b[1;33m.\u001b[0m\u001b[0m_created_with_new_api\u001b[0m\u001b[1;33m:\u001b[0m\u001b[1;33m\u001b[0m\u001b[0m\n\u001b[0;32m   1450\u001b[0m           return tf_session.TF_SessionRunCallable(\n\u001b[1;32m-> 1451\u001b[1;33m               self._session._session, self._handle, args, status, None)\n\u001b[0m\u001b[0;32m   1452\u001b[0m         \u001b[1;32melse\u001b[0m\u001b[1;33m:\u001b[0m\u001b[1;33m\u001b[0m\u001b[0m\n\u001b[0;32m   1453\u001b[0m           return tf_session.TF_DeprecatedSessionRunCallable(\n",
      "\u001b[1;31mKeyboardInterrupt\u001b[0m: "
     ]
    }
   ],
   "source": [
    "#fit data\n",
    "batch_size = 200\n",
    "epochs=20\n",
    "name = './data/separate_LcLid.hdf5'\n",
    "checkpointer = ModelCheckpoint(filepath=name, verbose=2, save_best_only=True)\n",
    "train_values = {c:X_train[c] for c in categorical_columns}\n",
    "train_values['continuouse'] = X_train[non_categorical_columns]\n",
    "\n",
    "val_values = {c:X_valid[c] for c in categorical_columns}\n",
    "val_values['continuouse'] = X_valid[non_categorical_columns]\n",
    "\n",
    "history = model.fit(train_values, y_train, epochs=epochs, batch_size = batch_size,\n",
    "                             validation_data=(val_values, y_valid), \n",
    "                             verbose=2, shuffle=True,\n",
    "                             #validation_split=0.2,\n",
    "                             callbacks=[checkpointer])"
   ]
  },
  {
   "cell_type": "code",
   "execution_count": null,
   "metadata": {
    "collapsed": true
   },
   "outputs": [],
   "source": [
    "fig, ax = plt.subplots(figsize=(10, 5))\n",
    "ax.plot(history.history['loss'], label='train')\n",
    "ax.plot(history.history['val_loss'], label='test')\n",
    "ax.legend()"
   ]
  },
  {
   "cell_type": "code",
   "execution_count": null,
   "metadata": {
    "collapsed": true
   },
   "outputs": [],
   "source": [
    "print(y_train[:10])"
   ]
  },
  {
   "cell_type": "code",
   "execution_count": 18,
   "metadata": {},
   "outputs": [
    {
     "name": "stdout",
     "output_type": "stream",
     "text": [
      "[0.39791518]\n"
     ]
    }
   ],
   "source": [
    "print(max(y_valid))"
   ]
  },
  {
   "cell_type": "code",
   "execution_count": null,
   "metadata": {
    "collapsed": true
   },
   "outputs": [],
   "source": []
  }
 ],
 "metadata": {
  "kernelspec": {
   "display_name": "Python 3",
   "language": "python",
   "name": "python3"
  },
  "language_info": {
   "codemirror_mode": {
    "name": "ipython",
    "version": 3
   },
   "file_extension": ".py",
   "mimetype": "text/x-python",
   "name": "python",
   "nbconvert_exporter": "python",
   "pygments_lexer": "ipython3",
   "version": "3.7.4"
  }
 },
 "nbformat": 4,
 "nbformat_minor": 2
}
