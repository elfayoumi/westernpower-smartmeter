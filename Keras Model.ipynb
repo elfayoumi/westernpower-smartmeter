{
 "cells": [
  {
   "cell_type": "markdown",
   "metadata": {},
   "source": [
    "### Keras Starter "
   ]
  },
  {
   "cell_type": "code",
   "execution_count": 50,
   "metadata": {},
   "outputs": [],
   "source": [
    "import bcolz\n",
    "import numpy as np\n",
    "import pickle \n",
    "from pathlib import Path\n",
    "import tensorflow as tf\n",
    "from sklearn.preprocessing import LabelEncoder\n",
    "from tensorflow import keras\n",
    "layers = keras.layers\n",
    "from keras import metrics\n",
    "import clr_callback\n",
    "config = tf.ConfigProto()\n",
    "config.gpu_options.allow_growth=True\n",
    "config.log_device_placement=True\n",
    "sess = tf.Session(config=config)\n",
    "keras.backend.set_session(sess)\n",
    "import matplotlib.pyplot as plt"
   ]
  },
  {
   "cell_type": "code",
   "execution_count": 2,
   "metadata": {},
   "outputs": [],
   "source": [
    "model_path = Path('/home/ubuntu/WesternPower-Smartmeter/models/')\n",
    "model_path.mkdir(exist_ok=True)"
   ]
  },
  {
   "cell_type": "code",
   "execution_count": 3,
   "metadata": {},
   "outputs": [],
   "source": [
    "#load the column value dictionary\n",
    "with open(\"data/cat_map.pkl\", \"rb\") as dictionary_file:\n",
    "       cat_map = pickle.load(dictionary_file)"
   ]
  },
  {
   "cell_type": "code",
   "execution_count": 52,
   "metadata": {},
   "outputs": [],
   "source": [
    "def rmse(predictions, targets):\n",
    "    return np.sqrt(((predictions - targets) ** 2).mean())"
   ]
  },
  {
   "cell_type": "code",
   "execution_count": 4,
   "metadata": {},
   "outputs": [],
   "source": [
    "class BcolzDataGenerator(keras.utils.Sequence):\n",
    "    def __init__(self, bcolz_directory, batch_size, start_indx, end_indx):\n",
    "        'Initialization'\n",
    "        self.da = bcolz.open(rootdir=bcolz_directory, mode='r') \n",
    "        self.batch_size = batch_size\n",
    "        self.start_indx = start_indx\n",
    "        self.end_indx = end_indx\n",
    "        self.on_epoch_end()\n",
    "    def __len__(self):\n",
    "        'Denotes the number of batches per epoch'                  \n",
    "        return int(np.floor((self.end_indx  - self.start_indx) / self.batch_size))\n",
    "\n",
    "    def __getitem__(self, index):\n",
    "        'Generate one batch of data'\n",
    "        \n",
    "        end = self.current_indx+self.batch_size\n",
    "        X = X=np.nan_to_num(self.da[self.current_indx:end])    \n",
    "        X = np.delete(X,9,axis=1) # drop the timestamp column   \n",
    "        Y = X[:,X.shape[1]-1] # The Label is the last column\n",
    "        X = X[:,:-1]\n",
    "\n",
    "        LCLid = X[:,0].astype('int32')\n",
    "        Acorn_grouped = X[:,2].astype('int32')\n",
    "        Acorn = X[:,3].astype('int32')\n",
    "        X = X[:,9:].astype('int32') # these are the rest of the numeric columns\n",
    "        self.current_indx = end\n",
    "        return [LCLid,Acorn_grouped, Acorn,  X], Y \n",
    "\n",
    "    def on_epoch_end(self):\n",
    "        self.current_indx = self.start_indx\n",
    " "
   ]
  },
  {
   "cell_type": "code",
   "execution_count": 19,
   "metadata": {},
   "outputs": [],
   "source": [
    "def get_fcn_model(learning_rate):\n",
    "    LCLid_Input = layers.Input(shape=(1,), dtype='int32', name='LCLid_Input')\n",
    "    Acorn_grouped_Input = layers.Input(shape=(1,), dtype='int32', name='Acorn_grouped_Input')\n",
    "    Acorn_Input = layers.Input(shape=(1,), dtype='int32', name='Acorn_Input')\n",
    "    numeric_input = layers.Input(shape=(40,), dtype='float32', name='Numeric_input')\n",
    "    e1 = layers.Embedding(unique_LCLid, 30,  input_length=1, trainable=True) (LCLid_Input)\n",
    "    e2 = layers.Embedding(unique_Acorn_grouped, 30,  input_length=1, trainable=True) (Acorn_grouped_Input)\n",
    "    e3 = layers.Embedding(unique_Acorn, 30,  input_length=1, trainable=True)(Acorn_Input)\n",
    "    merged_e = layers.concatenate([e1, e2, e3], axis=-1)\n",
    "    merged_e = layers.Flatten()(merged_e)\n",
    "    x= layers.concatenate([merged_e, numeric_input], axis=-1)\n",
    "    x = layers.Dense(64, activation='relu')(x)\n",
    "    x = layers.Dense(64, activation='relu')(x)\n",
    "    x = layers.Dense(64, activation='relu')(x)\n",
    "    main_output = layers.Dense(1, activation='linear', name='main_output')(x)\n",
    "    fcn_model = keras.Model(inputs=[LCLid_Input, Acorn_grouped_Input,Acorn_Input,numeric_input ], outputs=main_output)\n",
    "    adm = keras.optimizers.Adam(lr=learning_rate)\n",
    "    fcn_model.compile(optimizer=adm, loss='mse') # , metrics=[ metrics.mean_squared_error]\n",
    "    return fcn_model"
   ]
  },
  {
   "cell_type": "code",
   "execution_count": 22,
   "metadata": {},
   "outputs": [],
   "source": [
    "def train_model(mod):\n",
    "    sess.run(tf.global_variables_initializer())\n",
    "    mod.fit_generator(TG, epochs=num_epochs, validation_data =VG,  verbose=1,   callbacks=[\n",
    "                        \n",
    "                        keras.callbacks.ModelCheckpoint(str(model_path/'weights.{epoch:02d}-{val_loss:.2f}.hdf5'), \n",
    "                                                              monitor='val_loss', verbose=0, \n",
    "                                                             save_best_only=True, save_weights_only=False, \n",
    "                                                               mode='auto', period=1),\n",
    "                        keras.callbacks.EarlyStopping(monitor='val_loss', patience=patience, verbose=1)\n",
    "                        ])"
   ]
  },
  {
   "cell_type": "code",
   "execution_count": 41,
   "metadata": {},
   "outputs": [],
   "source": [
    "split=int(160e6)\n",
    "split2=int(split+10e6)\n",
    "split3=int(171e6)\n",
    "\n",
    "batch_size = 10000\n",
    "num_epochs=1000\n",
    "patience=25\n",
    "start=1\n",
    "TG = BcolzDataGenerator('data/processed_main_sorted', batch_size, 1,split )\n",
    "VG = BcolzDataGenerator('data/processed_main_sorted', batch_size, split, split2 )\n"
   ]
  },
  {
   "cell_type": "code",
   "execution_count": 26,
   "metadata": {},
   "outputs": [],
   "source": [
    "# embedding columns = 'LCLid',  'Acorn_grouped', 'Acorn'\n",
    "unique_LCLid = len(cat_map['LCLid'])\n",
    "unique_Acorn_grouped = len(cat_map['Acorn_grouped'])\n",
    "unique_Acorn = len(cat_map['Acorn'])"
   ]
  },
  {
   "cell_type": "code",
   "execution_count": null,
   "metadata": {},
   "outputs": [],
   "source": [
    "fcn_model = get_fcn_model(0.001)\n",
    "train_model(fcn_model)"
   ]
  },
  {
   "cell_type": "code",
   "execution_count": 59,
   "metadata": {},
   "outputs": [],
   "source": [
    "fcn_model = get_fcn_model(0.0001)\n",
    "fcn_model.load_weights('models/weights.14-0.11.hdf5')\n",
    "#train_model(fcn_model)"
   ]
  },
  {
   "cell_type": "code",
   "execution_count": 67,
   "metadata": {},
   "outputs": [
    {
     "name": "stdout",
     "output_type": "stream",
     "text": [
      "__________________________________________________________________________________________________\n",
      "Layer (type)                    Output Shape         Param #     Connected to                     \n",
      "==================================================================================================\n",
      "LCLid_Input (InputLayer)        (None, 1)            0                                            \n",
      "__________________________________________________________________________________________________\n",
      "Acorn_grouped_Input (InputLayer (None, 1)            0                                            \n",
      "__________________________________________________________________________________________________\n",
      "Acorn_Input (InputLayer)        (None, 1)            0                                            \n",
      "__________________________________________________________________________________________________\n",
      "embedding_28 (Embedding)        (None, 1, 30)        166980      LCLid_Input[0][0]                \n",
      "__________________________________________________________________________________________________\n",
      "embedding_29 (Embedding)        (None, 1, 30)        150         Acorn_grouped_Input[0][0]        \n",
      "__________________________________________________________________________________________________\n",
      "embedding_30 (Embedding)        (None, 1, 30)        570         Acorn_Input[0][0]                \n",
      "__________________________________________________________________________________________________\n",
      "concatenate_19 (Concatenate)    (None, 1, 90)        0           embedding_28[0][0]               \n",
      "                                                                 embedding_29[0][0]               \n",
      "                                                                 embedding_30[0][0]               \n",
      "__________________________________________________________________________________________________\n",
      "flatten_10 (Flatten)            (None, 90)           0           concatenate_19[0][0]             \n",
      "__________________________________________________________________________________________________\n",
      "Numeric_input (InputLayer)      (None, 40)           0                                            \n",
      "__________________________________________________________________________________________________\n",
      "concatenate_20 (Concatenate)    (None, 130)          0           flatten_10[0][0]                 \n",
      "                                                                 Numeric_input[0][0]              \n",
      "__________________________________________________________________________________________________\n",
      "dense_28 (Dense)                (None, 64)           8384        concatenate_20[0][0]             \n",
      "__________________________________________________________________________________________________\n",
      "dense_29 (Dense)                (None, 64)           4160        dense_28[0][0]                   \n",
      "__________________________________________________________________________________________________\n",
      "dense_30 (Dense)                (None, 64)           4160        dense_29[0][0]                   \n",
      "__________________________________________________________________________________________________\n",
      "main_output (Dense)             (None, 1)            65          dense_30[0][0]                   \n",
      "==================================================================================================\n",
      "Total params: 184,469\n",
      "Trainable params: 184,469\n",
      "Non-trainable params: 0\n",
      "__________________________________________________________________________________________________\n"
     ]
    }
   ],
   "source": [
    "fcn_model.summary()"
   ]
  },
  {
   "cell_type": "code",
   "execution_count": 62,
   "metadata": {},
   "outputs": [],
   "source": [
    "TestG = BcolzDataGenerator('data/processed_main_sorted', batch_size, split2, split3 )\n",
    "preds = fcn_model.predict_generator(TestG, steps=10)"
   ]
  },
  {
   "cell_type": "code",
   "execution_count": 61,
   "metadata": {},
   "outputs": [
    {
     "data": {
      "text/plain": [
       "170000000"
      ]
     },
     "execution_count": 61,
     "metadata": {},
     "output_type": "execute_result"
    }
   ],
   "source": []
  },
  {
   "cell_type": "code",
   "execution_count": 65,
   "metadata": {},
   "outputs": [
    {
     "name": "stdout",
     "output_type": "stream",
     "text": [
      "RMSE is  0.261975\n"
     ]
    }
   ],
   "source": [
    "da = bcolz.open(rootdir='data/processed_main_sorted', mode='r')\n",
    "y = da[split2:split2+(10*batch_size),-1:]\n",
    "rmse_result = rmse(preds,y)\n",
    "print (\"RMSE is \", rmse_result )"
   ]
  },
  {
   "cell_type": "code",
   "execution_count": 66,
   "metadata": {},
   "outputs": [
    {
     "data": {
      "image/png": "[encoded data removed]",
      "text/plain": [
       "<Figure size 432x288 with 1 Axes>"
      ]
     },
     "metadata": {},
     "output_type": "display_data"
    },
    {
     "data": {
      "image/png": "[encoded data removed]",
      "text/plain": [
       "<Figure size 432x288 with 1 Axes>"
      ]
     },
     "metadata": {},
     "output_type": "display_data"
    }
   ],
   "source": [
    "plt.plot(preds)\n",
    "plt.plot(y)\n",
    "plt.show()\n",
    "\n",
    "plt.scatter(y, preds, c='green', s=1)\n",
    "plt.plot([0,6],[0,6], c= \"red\", marker='.', linestyle=':')\n",
    "plt.axis([0,6 , 0, 6])\n",
    "plt.show()\n"
   ]
  }
 ],
 "metadata": {
  "kernelspec": {
   "display_name": "Python [conda env:tensorflow_p36]",
   "language": "python",
   "name": "conda-env-tensorflow_p36-py"
  },
  "language_info": {
   "codemirror_mode": {
    "name": "ipython",
    "version": 3
   },
   "file_extension": ".py",
   "mimetype": "text/x-python",
   "name": "python",
   "nbconvert_exporter": "python",
   "pygments_lexer": "ipython3",
   "version": "3.6.4"
  }
 },
 "nbformat": 4,
 "nbformat_minor": 2
}
