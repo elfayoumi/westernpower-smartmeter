{
 "cells": [
  {
   "cell_type": "code",
   "execution_count": 1,
   "metadata": {
    "collapsed": true
   },
   "outputs": [],
   "source": [
    "%matplotlib inline\n",
    "%reload_ext autoreload\n",
    "%autoreload 2"
   ]
  },
  {
   "cell_type": "code",
   "execution_count": 2,
   "metadata": {},
   "outputs": [
    {
     "name": "stderr",
     "output_type": "stream",
     "text": [
      "/home/aind2/anaconda3/envs/aind2/lib/python3.6/site-packages/fastprogress/fastprogress.py:26: UserWarning: Couldn't import ipywidgets properly, progress bar will use console behavior\n",
      "  warn(\"Couldn't import ipywidgets properly, progress bar will use console behavior\")\n"
     ]
    }
   ],
   "source": [
    "from fastai import *          # Quick access to most common functionality\n",
    "from fastai.tabular import *  # Quick access to tabular functionality"
   ]
  },
  {
   "cell_type": "code",
   "execution_count": 3,
   "metadata": {},
   "outputs": [],
   "source": [
    "import pandas as pd\n",
    "import numpy as np\n",
    "from random import sample, randint\n",
    "import os, datetime\n",
    "from pathlib import Path\n",
    "import itertools\n",
    "import pickle\n",
    "# Import the email modules we'll need\n",
    "from pandas_ml import ConfusionMatrix\n",
    "from tpot.builtins import StackingEstimator\n",
    "from sklearn.model_selection import train_test_split\n",
    "from sklearn.pipeline import make_pipeline, make_union\n",
    "from pandas.api.types import is_string_dtype, is_numeric_dtype\n"
   ]
  },
  {
   "cell_type": "code",
   "execution_count": 4,
   "metadata": {
    "collapsed": true
   },
   "outputs": [],
   "source": [
    "feather_file = os.path.join('.', 'data/total_data_filled.feather')\n",
    "VALID_DAYS = 20"
   ]
  },
  {
   "cell_type": "code",
   "execution_count": 5,
   "metadata": {},
   "outputs": [
    {
     "name": "stderr",
     "output_type": "stream",
     "text": [
      "/home/aind2/anaconda3/envs/aind2/lib/python3.6/site-packages/pandas/io/feather_format.py:112: FutureWarning: `nthreads` argument is deprecated, pass `use_threads` instead\n",
      "  return feather.read_dataframe(path, nthreads=nthreads)\n"
     ]
    }
   ],
   "source": [
    "df = pd.read_feather(feather_file)\n",
    "df = df.set_index([ 'index', 'day'])"
   ]
  },
  {
   "cell_type": "code",
   "execution_count": 6,
   "metadata": {},
   "outputs": [
    {
     "name": "stdout",
     "output_type": "stream",
     "text": [
      "                          LCLid  energy_median  energy_mean  energy_max  \\\n",
      "index     day                                                             \n",
      "MAC000002 2012-10-12  MAC000002         0.1385     0.154304       0.886   \n",
      "          2012-10-13  MAC000002         0.1800     0.230979       0.933   \n",
      "          2012-10-14  MAC000002         0.1580     0.275479       1.085   \n",
      "          2012-10-15  MAC000002         0.1310     0.213688       1.164   \n",
      "          2012-10-16  MAC000002         0.1450     0.203521       0.991   \n",
      "\n",
      "                      energy_count  energy_std  energy_sum  energy_min  \\\n",
      "index     day                                                            \n",
      "MAC000002 2012-10-12            46    0.196034       7.098       0.000   \n",
      "          2012-10-13            48    0.192329      11.087       0.076   \n",
      "          2012-10-14            48    0.274647      13.223       0.070   \n",
      "          2012-10-15            48    0.224483      10.257       0.070   \n",
      "          2012-10-16            48    0.184115       9.769       0.087   \n",
      "\n",
      "                      energy_skewness  energy_kurtosis  \\\n",
      "index     day                                            \n",
      "MAC000002 2012-10-12         1.870551         6.136773   \n",
      "          2012-10-13         2.913198        10.940542   \n",
      "          2012-10-14         1.727139         4.888036   \n",
      "          2012-10-15         3.059318        12.302543   \n",
      "          2012-10-16         3.224490        13.822631   \n",
      "\n",
      "                                ...             temperatureMinHour  \\\n",
      "index     day                   ...                                  \n",
      "MAC000002 2012-10-12            ...                           22.0   \n",
      "          2012-10-13            ...                            7.0   \n",
      "          2012-10-14            ...                            3.0   \n",
      "          2012-10-15            ...                           21.0   \n",
      "          2012-10-16            ...                           23.0   \n",
      "\n",
      "                     apparentTemperatureMinHour apparentTemperatureHighHour  \\\n",
      "index     day                                                                 \n",
      "MAC000002 2012-10-12                       22.0                        14.0   \n",
      "          2012-10-13                        6.0                        14.0   \n",
      "          2012-10-14                        4.0                        14.0   \n",
      "          2012-10-15                        6.0                        14.0   \n",
      "          2012-10-16                       23.0                        13.0   \n",
      "\n",
      "                     sunsetHour  uvIndexHour sunriseHour  temperatureHighHour  \\\n",
      "index     day                                                                   \n",
      "MAC000002 2012-10-12       17.0         12.0         6.0                 14.0   \n",
      "          2012-10-13       17.0         12.0         6.0                 14.0   \n",
      "          2012-10-14       17.0          9.0         6.0                 14.0   \n",
      "          2012-10-15       17.0          9.0         6.0                 14.0   \n",
      "          2012-10-16       17.0          9.0         6.0                 13.0   \n",
      "\n",
      "                     temperatureLowHour  apparentTemperatureMaxHour  \\\n",
      "index     day                                                         \n",
      "MAC000002 2012-10-12                7.0                        14.0   \n",
      "          2012-10-13                3.0                        14.0   \n",
      "          2012-10-14                5.0                        14.0   \n",
      "          2012-10-15               23.0                        14.0   \n",
      "          2012-10-16                7.0                        13.0   \n",
      "\n",
      "                     apparentTemperatureLowHour  \n",
      "index     day                                    \n",
      "MAC000002 2012-10-12                        6.0  \n",
      "          2012-10-13                        4.0  \n",
      "          2012-10-14                        6.0  \n",
      "          2012-10-15                       23.0  \n",
      "          2012-10-16                        7.0  \n",
      "\n",
      "[5 rows x 65 columns]\n"
     ]
    }
   ],
   "source": [
    "print(df.head())"
   ]
  },
  {
   "cell_type": "code",
   "execution_count": 7,
   "metadata": {
    "collapsed": true
   },
   "outputs": [],
   "source": [
    "df = df.drop(['energy_median','energy_mean','energy_max','energy_count',\n",
    "                  'energy_std','energy_min','energy_skewness','energy_kurtosis', \"temperatureMaxTime\", \"temperatureMinTime\", \"apparentTemperatureMinTime\",\n",
    "                    \"apparentTemperatureHighTime\",\"sunsetTime\", \"uvIndexTime\"  ,\"sunriseTime\",\"temperatureHighTime\", \"temperatureLowTime\", \n",
    "                     \"apparentTemperatureMaxTime\",\n",
    "                     \"apparentTemperatureLowTime\"], axis = 1)"
   ]
  },
  {
   "cell_type": "code",
   "execution_count": 8,
   "metadata": {},
   "outputs": [
    {
     "name": "stdout",
     "output_type": "stream",
     "text": [
      "                          LCLid  energy_sum energey_max_usage_hour stdorToU  \\\n",
      "index     day                                                                 \n",
      "MAC000002 2012-10-12  MAC000002       7.098                     19      Std   \n",
      "          2012-10-13  MAC000002      11.087                     10      Std   \n",
      "          2012-10-14  MAC000002      13.223                     18      Std   \n",
      "          2012-10-15  MAC000002      10.257                     19      Std   \n",
      "          2012-10-16  MAC000002       9.769                     12      Std   \n",
      "\n",
      "                        Acorn Acorn_grouped  temperatureMax  windBearing  \\\n",
      "index     day                                                              \n",
      "MAC000002 2012-10-12  ACORN-A      Affluent           11.53        252.0   \n",
      "          2012-10-13  ACORN-A      Affluent           12.32        300.0   \n",
      "          2012-10-14  ACORN-A      Affluent           13.03        220.0   \n",
      "          2012-10-15  ACORN-A      Affluent           14.74        226.0   \n",
      "          2012-10-16  ACORN-A      Affluent           16.60        178.0   \n",
      "\n",
      "                                   icon  dewPoint             ...              \\\n",
      "index     day                                                 ...               \n",
      "MAC000002 2012-10-12  partly-cloudy-day      6.15             ...               \n",
      "          2012-10-13  partly-cloudy-day      4.10             ...               \n",
      "          2012-10-14  partly-cloudy-day      6.39             ...               \n",
      "          2012-10-15               wind      6.91             ...               \n",
      "          2012-10-16  partly-cloudy-day      9.87             ...               \n",
      "\n",
      "                      temperatureMinHour  apparentTemperatureMinHour  \\\n",
      "index     day                                                          \n",
      "MAC000002 2012-10-12                22.0                        22.0   \n",
      "          2012-10-13                 7.0                         6.0   \n",
      "          2012-10-14                 3.0                         4.0   \n",
      "          2012-10-15                21.0                         6.0   \n",
      "          2012-10-16                23.0                        23.0   \n",
      "\n",
      "                      apparentTemperatureHighHour  sunsetHour uvIndexHour  \\\n",
      "index     day                                                               \n",
      "MAC000002 2012-10-12                         14.0        17.0        12.0   \n",
      "          2012-10-13                         14.0        17.0        12.0   \n",
      "          2012-10-14                         14.0        17.0         9.0   \n",
      "          2012-10-15                         14.0        17.0         9.0   \n",
      "          2012-10-16                         13.0        17.0         9.0   \n",
      "\n",
      "                      sunriseHour  temperatureHighHour  temperatureLowHour  \\\n",
      "index     day                                                                \n",
      "MAC000002 2012-10-12          6.0                 14.0                 7.0   \n",
      "          2012-10-13          6.0                 14.0                 3.0   \n",
      "          2012-10-14          6.0                 14.0                 5.0   \n",
      "          2012-10-15          6.0                 14.0                23.0   \n",
      "          2012-10-16          6.0                 13.0                 7.0   \n",
      "\n",
      "                      apparentTemperatureMaxHour  apparentTemperatureLowHour  \n",
      "index     day                                                                 \n",
      "MAC000002 2012-10-12                        14.0                         6.0  \n",
      "          2012-10-13                        14.0                         4.0  \n",
      "          2012-10-14                        14.0                         6.0  \n",
      "          2012-10-15                        14.0                        23.0  \n",
      "          2012-10-16                        13.0                         7.0  \n",
      "\n",
      "[5 rows x 46 columns]\n"
     ]
    }
   ],
   "source": [
    "print(df.head())"
   ]
  },
  {
   "cell_type": "code",
   "execution_count": 9,
   "metadata": {},
   "outputs": [
    {
     "name": "stdout",
     "output_type": "stream",
     "text": [
      "Index(['LCLid', 'energy_sum', 'energey_max_usage_hour', 'stdorToU', 'Acorn',\n",
      "       'Acorn_grouped', 'temperatureMax', 'windBearing', 'icon', 'dewPoint',\n",
      "       'cloudCover', 'windSpeed', 'pressure', 'apparentTemperatureHigh',\n",
      "       'precipType', 'visibility', 'humidity', 'apparentTemperatureLow',\n",
      "       'apparentTemperatureMax', 'uvIndex', 'temperatureLow', 'temperatureMin',\n",
      "       'temperatureHigh', 'summary', 'apparentTemperatureMin', 'moonPhase',\n",
      "       'temperature_skewness', 'temperature_kurtosis', 'day_length',\n",
      "       'day.of.week', 'Type', 'before_holiday', 'after_holiday', 'month',\n",
      "       'year', 'temperatureMaxHour', 'temperatureMinHour',\n",
      "       'apparentTemperatureMinHour', 'apparentTemperatureHighHour',\n",
      "       'sunsetHour', 'uvIndexHour', 'sunriseHour', 'temperatureHighHour',\n",
      "       'temperatureLowHour', 'apparentTemperatureMaxHour',\n",
      "       'apparentTemperatureLowHour'],\n",
      "      dtype='object')\n"
     ]
    }
   ],
   "source": [
    "max_date = max(df.index)[1]\n",
    "valid_start_day = max_date - datetime.timedelta(days = VALID_DAYS)       \n",
    "train_idx = list(filter(lambda t: t[1] <= valid_start_day, df.index))\n",
    "valid_idx = list(filter(lambda t: t[1] > valid_start_day, df.index))\n",
    "print(df.columns)"
   ]
  },
  {
   "cell_type": "code",
   "execution_count": 10,
   "metadata": {
    "collapsed": true
   },
   "outputs": [],
   "source": [
    "cat_names = ['LCLid','Acorn', 'Acorn_grouped', \"icon\", \"stdorToU\", \"Type\", \"day.of.week\", 'precipType',  'summary', \n",
    "                   'before_holiday', 'after_holiday', 'month', 'year']\n",
    "df = df.drop(['energey_max_usage_hour'], axis = 1)"
   ]
  },
  {
   "cell_type": "code",
   "execution_count": 11,
   "metadata": {
    "collapsed": true
   },
   "outputs": [],
   "source": [
    "dep_var = 'energy_sum'\n",
    "cont_names = list(filter(lambda x: x not in cat_names, df.columns))"
   ]
  },
  {
   "cell_type": "code",
   "execution_count": 12,
   "metadata": {
    "collapsed": true
   },
   "outputs": [],
   "source": [
    "train_df = df.loc[train_idx]\n",
    "valid_df = df.loc[valid_idx]"
   ]
  },
  {
   "cell_type": "code",
   "execution_count": 13,
   "metadata": {
    "collapsed": true
   },
   "outputs": [],
   "source": [
    "path = Path('./data')\n",
    "for v in cat_names:\n",
    "            df[v] = df[v].astype('category').cat.as_ordered()"
   ]
  },
  {
   "cell_type": "code",
   "execution_count": 14,
   "metadata": {},
   "outputs": [
    {
     "name": "stdout",
     "output_type": "stream",
     "text": [
      "index                                           MAC000002  \\\n",
      "day                                            2012-10-12   \n",
      "LCLid                                           MAC000002   \n",
      "energy_sum                                          7.098   \n",
      "stdorToU                                              Std   \n",
      "Acorn                                             ACORN-A   \n",
      "Acorn_grouped                                    Affluent   \n",
      "temperatureMax                                      11.53   \n",
      "windBearing                                           252   \n",
      "icon                                    partly-cloudy-day   \n",
      "dewPoint                                             6.15   \n",
      "cloudCover                                           0.29   \n",
      "windSpeed                                            2.18   \n",
      "pressure                                          1004.92   \n",
      "apparentTemperatureHigh                             11.53   \n",
      "precipType                                           rain   \n",
      "visibility                                          12.94   \n",
      "humidity                                             0.84   \n",
      "apparentTemperatureLow                               1.64   \n",
      "apparentTemperatureMax                              11.53   \n",
      "uvIndex                                                 2   \n",
      "temperatureLow                                       2.81   \n",
      "temperatureMin                                       6.41   \n",
      "temperatureHigh                                     11.53   \n",
      "summary                      Partly cloudy until evening.   \n",
      "apparentTemperatureMin                               4.01   \n",
      "moonPhase                                            0.92   \n",
      "temperature_skewness                            -0.131944   \n",
      "temperature_kurtosis                              1.82943   \n",
      "day_length                                       0.451424   \n",
      "day.of.week                                        Friday   \n",
      "Type                                               Normal   \n",
      "before_holiday                                          5   \n",
      "after_holiday                                           5   \n",
      "month                                                  10   \n",
      "year                                                 2012   \n",
      "temperatureMaxHour                                     14   \n",
      "temperatureMinHour                                     22   \n",
      "apparentTemperatureMinHour                             22   \n",
      "apparentTemperatureHighHour                            14   \n",
      "sunsetHour                                             17   \n",
      "uvIndexHour                                            12   \n",
      "sunriseHour                                             6   \n",
      "temperatureHighHour                                    14   \n",
      "temperatureLowHour                                      7   \n",
      "apparentTemperatureMaxHour                             14   \n",
      "apparentTemperatureLowHour                              6   \n",
      "\n",
      "index                                                                           \\\n",
      "day                                                                 2012-10-13   \n",
      "LCLid                                                                MAC000002   \n",
      "energy_sum                                                              11.087   \n",
      "stdorToU                                                                   Std   \n",
      "Acorn                                                                  ACORN-A   \n",
      "Acorn_grouped                                                         Affluent   \n",
      "temperatureMax                                                           12.32   \n",
      "windBearing                                                                300   \n",
      "icon                                                         partly-cloudy-day   \n",
      "dewPoint                                                                   4.1   \n",
      "cloudCover                                                                 0.2   \n",
      "windSpeed                                                                 2.36   \n",
      "pressure                                                                1002.5   \n",
      "apparentTemperatureHigh                                                  12.32   \n",
      "precipType                                                                rain   \n",
      "visibility                                                               11.86   \n",
      "humidity                                                                   0.8   \n",
      "apparentTemperatureLow                                                    2.83   \n",
      "apparentTemperatureMax                                                   12.32   \n",
      "uvIndex                                                                      2   \n",
      "temperatureLow                                                            4.09   \n",
      "temperatureMin                                                            2.81   \n",
      "temperatureHigh                                                          12.32   \n",
      "summary                      Partly cloudy starting in the afternoon, conti...   \n",
      "apparentTemperatureMin                                                    1.64   \n",
      "moonPhase                                                                 0.96   \n",
      "temperature_skewness                                                  0.253098   \n",
      "temperature_kurtosis                                                   1.79166   \n",
      "day_length                                                            0.448762   \n",
      "day.of.week                                                           Saturday   \n",
      "Type                                                                    Normal   \n",
      "before_holiday                                                               5   \n",
      "after_holiday                                                                5   \n",
      "month                                                                       10   \n",
      "year                                                                      2012   \n",
      "temperatureMaxHour                                                          14   \n",
      "temperatureMinHour                                                           7   \n",
      "apparentTemperatureMinHour                                                   6   \n",
      "apparentTemperatureHighHour                                                 14   \n",
      "sunsetHour                                                                  17   \n",
      "uvIndexHour                                                                 12   \n",
      "sunriseHour                                                                  6   \n",
      "temperatureHighHour                                                         14   \n",
      "temperatureLowHour                                                           3   \n",
      "apparentTemperatureMaxHour                                                  14   \n",
      "apparentTemperatureLowHour                                                   4   \n",
      "\n",
      "index                                                           \\\n",
      "day                                                 2012-10-14   \n",
      "LCLid                                                MAC000002   \n",
      "energy_sum                                              13.223   \n",
      "stdorToU                                                   Std   \n",
      "Acorn                                                  ACORN-A   \n",
      "Acorn_grouped                                         Affluent   \n",
      "temperatureMax                                           13.03   \n",
      "windBearing                                                220   \n",
      "icon                                         partly-cloudy-day   \n",
      "dewPoint                                                  6.39   \n",
      "cloudCover                                                0.31   \n",
      "windSpeed                                                 2.97   \n",
      "pressure                                               1002.67   \n",
      "apparentTemperatureHigh                                  13.03   \n",
      "precipType                                                rain   \n",
      "visibility                                               12.17   \n",
      "humidity                                                  0.84   \n",
      "apparentTemperatureLow                                    7.15   \n",
      "apparentTemperatureMax                                   13.03   \n",
      "uvIndex                                                      1   \n",
      "temperatureLow                                            9.81   \n",
      "temperatureMin                                            4.09   \n",
      "temperatureHigh                                          13.03   \n",
      "summary                      Partly cloudy throughout the day.   \n",
      "apparentTemperatureMin                                    2.83   \n",
      "moonPhase                                                 0.99   \n",
      "temperature_skewness                                -0.0987374   \n",
      "temperature_kurtosis                                   1.55307   \n",
      "day_length                                            0.446088   \n",
      "day.of.week                                             Sunday   \n",
      "Type                                                    Normal   \n",
      "before_holiday                                               5   \n",
      "after_holiday                                                5   \n",
      "month                                                       10   \n",
      "year                                                      2012   \n",
      "temperatureMaxHour                                          14   \n",
      "temperatureMinHour                                           3   \n",
      "apparentTemperatureMinHour                                   4   \n",
      "apparentTemperatureHighHour                                 14   \n",
      "sunsetHour                                                  17   \n",
      "uvIndexHour                                                  9   \n",
      "sunriseHour                                                  6   \n",
      "temperatureHighHour                                         14   \n",
      "temperatureLowHour                                           5   \n",
      "apparentTemperatureMaxHour                                  14   \n",
      "apparentTemperatureLowHour                                   6   \n",
      "\n",
      "index                                                                           \\\n",
      "day                                                                 2012-10-15   \n",
      "LCLid                                                                MAC000002   \n",
      "energy_sum                                                              10.257   \n",
      "stdorToU                                                                   Std   \n",
      "Acorn                                                                  ACORN-A   \n",
      "Acorn_grouped                                                         Affluent   \n",
      "temperatureMax                                                           14.74   \n",
      "windBearing                                                                226   \n",
      "icon                                                                      wind   \n",
      "dewPoint                                                                  6.91   \n",
      "cloudCover                                                                0.39   \n",
      "windSpeed                                                                 5.37   \n",
      "pressure                                                                1000.8   \n",
      "apparentTemperatureHigh                                                  14.74   \n",
      "precipType                                                                rain   \n",
      "visibility                                                               12.59   \n",
      "humidity                                                                  0.74   \n",
      "apparentTemperatureLow                                                    7.41   \n",
      "apparentTemperatureMax                                                   14.74   \n",
      "uvIndex                                                                      1   \n",
      "temperatureLow                                                             8.8   \n",
      "temperatureMin                                                            9.06   \n",
      "temperatureHigh                                                          14.74   \n",
      "summary                      Partly cloudy throughout the day and breezy un...   \n",
      "apparentTemperatureMin                                                    7.15   \n",
      "moonPhase                                                                 0.03   \n",
      "temperature_skewness                                                 -0.466399   \n",
      "temperature_kurtosis                                                   1.43334   \n",
      "day_length                                                            0.443414   \n",
      "day.of.week                                                             Monday   \n",
      "Type                                                                    Normal   \n",
      "before_holiday                                                               5   \n",
      "after_holiday                                                                5   \n",
      "month                                                                       10   \n",
      "year                                                                      2012   \n",
      "temperatureMaxHour                                                          14   \n",
      "temperatureMinHour                                                          21   \n",
      "apparentTemperatureMinHour                                                   6   \n",
      "apparentTemperatureHighHour                                                 14   \n",
      "sunsetHour                                                                  17   \n",
      "uvIndexHour                                                                  9   \n",
      "sunriseHour                                                                  6   \n",
      "temperatureHighHour                                                         14   \n",
      "temperatureLowHour                                                          23   \n",
      "apparentTemperatureMaxHour                                                  14   \n",
      "apparentTemperatureLowHour                                                  23   \n",
      "\n",
      "index                                                           \n",
      "day                                                 2012-10-16  \n",
      "LCLid                                                MAC000002  \n",
      "energy_sum                                               9.769  \n",
      "stdorToU                                                   Std  \n",
      "Acorn                                                  ACORN-A  \n",
      "Acorn_grouped                                         Affluent  \n",
      "temperatureMax                                            16.6  \n",
      "windBearing                                                178  \n",
      "icon                                         partly-cloudy-day  \n",
      "dewPoint                                                  9.87  \n",
      "cloudCover                                                0.42  \n",
      "windSpeed                                                 4.66  \n",
      "pressure                                                998.22  \n",
      "apparentTemperatureHigh                                   16.6  \n",
      "precipType                                                rain  \n",
      "visibility                                                12.2  \n",
      "humidity                                                  0.82  \n",
      "apparentTemperatureLow                                   12.15  \n",
      "apparentTemperatureMax                                    16.6  \n",
      "uvIndex                                                      1  \n",
      "temperatureLow                                           12.15  \n",
      "temperatureMin                                             8.8  \n",
      "temperatureHigh                                           16.6  \n",
      "summary                      Partly cloudy throughout the day.  \n",
      "apparentTemperatureMin                                    7.41  \n",
      "moonPhase                                                 0.07  \n",
      "temperature_skewness                                  0.267127  \n",
      "temperature_kurtosis                                   1.88496  \n",
      "day_length                                            0.440764  \n",
      "day.of.week                                            Tuesday  \n",
      "Type                                                    Normal  \n",
      "before_holiday                                               5  \n",
      "after_holiday                                                5  \n",
      "month                                                       10  \n",
      "year                                                      2012  \n",
      "temperatureMaxHour                                          13  \n",
      "temperatureMinHour                                          23  \n",
      "apparentTemperatureMinHour                                  23  \n",
      "apparentTemperatureHighHour                                 13  \n",
      "sunsetHour                                                  17  \n",
      "uvIndexHour                                                  9  \n",
      "sunriseHour                                                  6  \n",
      "temperatureHighHour                                         13  \n",
      "temperatureLowHour                                           7  \n",
      "apparentTemperatureMaxHour                                  13  \n",
      "apparentTemperatureLowHour                                   7  \n"
     ]
    }
   ],
   "source": [
    "#df = df.reset_index()\n",
    "#df = df.drop(['day', 'index'] , axis = 1)\n",
    "print(df.head().T)\n"
   ]
  },
  {
   "cell_type": "code",
   "execution_count": 15,
   "metadata": {},
   "outputs": [
    {
     "name": "stderr",
     "output_type": "stream",
     "text": [
      "/home/aind2/anaconda3/envs/aind2/lib/python3.6/site-packages/fastai/tabular/transform.py:30: SettingWithCopyWarning: \n",
      "A value is trying to be set on a copy of a slice from a DataFrame.\n",
      "Try using .loc[row_indexer,col_indexer] = value instead\n",
      "\n",
      "See the caveats in the documentation: http://pandas.pydata.org/pandas-docs/stable/indexing.html#indexing-view-versus-copy\n",
      "  df[n] = df[n].astype('category').cat.as_ordered()\n",
      "/home/aind2/anaconda3/envs/aind2/lib/python3.6/site-packages/fastai/tabular/transform.py:35: SettingWithCopyWarning: \n",
      "A value is trying to be set on a copy of a slice from a DataFrame.\n",
      "Try using .loc[row_indexer,col_indexer] = value instead\n",
      "\n",
      "See the caveats in the documentation: http://pandas.pydata.org/pandas-docs/stable/indexing.html#indexing-view-versus-copy\n",
      "  df[n] = pd.Categorical(df[n], categories=self.categories[n], ordered=True)\n"
     ]
    }
   ],
   "source": [
    "data = TabularDataBunch.from_df(path, train_df, valid_df, dep_var, \n",
    "                                tfms=[FillMissing, Categorify], cat_names=cat_names)"
   ]
  },
  {
   "cell_type": "code",
   "execution_count": 17,
   "metadata": {},
   "outputs": [],
   "source": [
    "learn = get_tabular_learner(data, layers=[200,100], metrics=accuracy)\n",
    "lr = 1e-3"
   ]
  },
  {
   "cell_type": "code",
   "execution_count": 18,
   "metadata": {
    "collapsed": true
   },
   "outputs": [],
   "source": [
    "??learn.fit"
   ]
  },
  {
   "cell_type": "code",
   "execution_count": null,
   "metadata": {},
   "outputs": [
    {
     "name": "stdout",
     "output_type": "stream",
     "text": [
      "epoch  train loss  valid loss  accuracy\n"
     ]
    }
   ],
   "source": [
    "learn.fit(1,lr)"
   ]
  },
  {
   "cell_type": "code",
   "execution_count": null,
   "metadata": {
    "collapsed": true
   },
   "outputs": [],
   "source": []
  }
 ],
 "metadata": {
  "kernelspec": {
   "display_name": "Python 3",
   "language": "python",
   "name": "python3"
  },
  "language_info": {
   "codemirror_mode": {
    "name": "ipython",
    "version": 3
   },
   "file_extension": ".py",
   "mimetype": "text/x-python",
   "name": "python",
   "nbconvert_exporter": "python",
   "pygments_lexer": "ipython3",
   "version": "3.6.1"
  }
 },
 "nbformat": 4,
 "nbformat_minor": 2
}
