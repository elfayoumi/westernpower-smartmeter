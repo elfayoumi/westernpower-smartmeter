{
 "cells": [
  {
   "cell_type": "markdown",
   "metadata": {},
   "source": [
    "## Try Regression with some boosted tree Models "
   ]
  },
  {
   "cell_type": "code",
   "execution_count": 1,
   "metadata": {},
   "outputs": [
    {
     "name": "stderr",
     "output_type": "stream",
     "text": [
      "/home/ubuntu/anaconda3/envs/fastai/lib/python3.6/site-packages/matplotlib/__init__.py:1067: UserWarning: Duplicate key in file \"/home/ubuntu/.config/matplotlib/matplotlibrc\", line #2\n",
      "  (fname, cnt))\n",
      "/home/ubuntu/anaconda3/envs/fastai/lib/python3.6/site-packages/matplotlib/__init__.py:1067: UserWarning: Duplicate key in file \"/home/ubuntu/.config/matplotlib/matplotlibrc\", line #3\n",
      "  (fname, cnt))\n",
      "/home/ubuntu/anaconda3/envs/fastai/lib/python3.6/importlib/_bootstrap.py:219: RuntimeWarning: numpy.dtype size changed, may indicate binary incompatibility. Expected 96, got 88\n",
      "  return f(*args, **kwds)\n"
     ]
    }
   ],
   "source": [
    "from tpot import TPOTRegressor\n",
    "import bcolz\n",
    "import numpy as np\n",
    "import matplotlib.pyplot as plt"
   ]
  },
  {
   "cell_type": "code",
   "execution_count": 2,
   "metadata": {},
   "outputs": [],
   "source": [
    "def rmse(predictions, targets):\n",
    "    return np.sqrt(((predictions - targets) ** 2).mean())"
   ]
  },
  {
   "cell_type": "markdown",
   "metadata": {},
   "source": [
    "### Get Training Data "
   ]
  },
  {
   "cell_type": "code",
   "execution_count": 3,
   "metadata": {},
   "outputs": [],
   "source": [
    "def GetTrainingData(num_rows, val_fraction, test_fraction):\n",
    "    val_size = int(num_rows*val_fraction)\n",
    "    test_size = int(num_rows*test_fraction)\n",
    "    train_size = num_rows - ( val_size + test_size)\n",
    "    da = bcolz.open(rootdir='data/processed_main', mode='r')\n",
    "    X = da[:train_size,:-1]\n",
    "    Y = da[:train_size,-1:]\n",
    "    Xv = da[train_size:train_size+val_size,:-1]\n",
    "    Yv = da[train_size:train_size+val_size,-1:]\n",
    "    Xt = da[train_size+val_size:train_size+val_size+test_size,:-1]\n",
    "    Yt = da[train_size+val_size:train_size+val_size+test_size,-1:]\n",
    "    X=np.nan_to_num(X)\n",
    "    Y=np.nan_to_num(Y)\n",
    "    Xv=np.nan_to_num(Xv)\n",
    "    Yv=np.nan_to_num(Yv)\n",
    "    Xt=np.nan_to_num(Xt)\n",
    "    return X, Y[:,0], Xv, Yv[:,0], Xt, Yt[:,0]        "
   ]
  },
  {
   "cell_type": "code",
   "execution_count": 4,
   "metadata": {},
   "outputs": [],
   "source": [
    "dev_X, dev_y, val_X, val_y, X_test, Y_test = GetTrainingData(100000, 0.2, 0.1)"
   ]
  },
  {
   "cell_type": "markdown",
   "metadata": {},
   "source": [
    "### Find Best regressor"
   ]
  },
  {
   "cell_type": "code",
   "execution_count": null,
   "metadata": {},
   "outputs": [
    {
     "name": "stderr",
     "output_type": "stream",
     "text": [
      "/home/ubuntu/anaconda3/envs/fastai/lib/python3.6/site-packages/sklearn/ensemble/weight_boosting.py:29: DeprecationWarning: numpy.core.umath_tests is an internal NumPy module and should not be imported. It will be removed in a future NumPy release.\n",
      "  from numpy.core.umath_tests import inner1d\n"
     ]
    },
    {
     "data": {
      "application/vnd.jupyter.widget-view+json": {
       "model_id": "d91a9b99c2aa423b8b5703a396200f49",
       "version_major": 2,
       "version_minor": 0
      },
      "text/plain": [
       "HBox(children=(IntProgress(value=0, description='Optimization Progress', max=120), HTML(value='')))"
      ]
     },
     "metadata": {},
     "output_type": "display_data"
    }
   ],
   "source": [
    "tpot = TPOTRegressor(generations=5, population_size=20, verbosity=2, n_jobs = 7)\n",
    "tpot.fit(dev_X, dev_y)\n",
    "print(tpot.score(X_test, Y_test, n_jobs = 7))\n",
    "tpot.export('tpot_wb_pipeline.py')\n"
   ]
  },
  {
   "cell_type": "code",
   "execution_count": null,
   "metadata": {},
   "outputs": [],
   "source": [
    "pred_test_tpot = tpot.predict(X_test)"
   ]
  },
  {
   "cell_type": "code",
   "execution_count": null,
   "metadata": {},
   "outputs": [],
   "source": [
    "rmse_result = rmse(pred_test_tpot,Y_test)\n",
    "print (\"RMSE is \", rmse_result )"
   ]
  },
  {
   "cell_type": "code",
   "execution_count": null,
   "metadata": {},
   "outputs": [],
   "source": [
    "plt.plot(ensemble_test)\n",
    "plt.plot(Y_test)\n",
    "plt.show()\n",
    "\n",
    "plt.scatter(Y_test, ensemble_test, c='green', s=1)\n",
    "plt.plot([0,6],[0,6], c= \"red\", marker='.', linestyle=':')\n",
    "plt.axis([0,6 , 0, 6])\n",
    "plt.show()\n"
   ]
  },
  {
   "cell_type": "code",
   "execution_count": null,
   "metadata": {},
   "outputs": [],
   "source": []
  }
 ],
 "metadata": {
  "kernelspec": {
   "display_name": "fastai",
   "language": "python",
   "name": "fastai"
  },
  "language_info": {
   "codemirror_mode": {
    "name": "ipython",
    "version": 3
   },
   "file_extension": ".py",
   "mimetype": "text/x-python",
   "name": "python",
   "nbconvert_exporter": "python",
   "pygments_lexer": "ipython3",
   "version": "3.6.5"
  }
 },
 "nbformat": 4,
 "nbformat_minor": 2
}
