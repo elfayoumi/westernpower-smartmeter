{
 "cells": [
  {
   "cell_type": "code",
   "execution_count": 1,
   "metadata": {},
   "outputs": [],
   "source": [
    "import pandas as pd\n",
    "import numpy as np\n",
    "import os\n",
    "import matplotlib.pyplot as plt\n",
    "from datetime import datetime"
   ]
  },
  {
   "cell_type": "code",
   "execution_count": 2,
   "metadata": {},
   "outputs": [],
   "source": [
    "##/home/sherief/dev/WesternPower/LondonSmartMeter\n",
    "DATA_ROOT = \"smart-meters-in-london\"\n",
    "BLOCK_PATH = os.path.join(DATA_ROOT,'halfhourly_dataset') \n",
    "BLOCKS = os.listdir(BLOCK_PATH)"
   ]
  },
  {
   "cell_type": "code",
   "execution_count": 3,
   "metadata": {},
   "outputs": [],
   "source": [
    "df = pd.concat([pd.read_csv(os.path.join(BLOCK_PATH,block)) for block in BLOCKS[:2]])\n",
    "df['time']=  df['tstp'].astype(str).str[:19]"
   ]
  },
  {
   "cell_type": "code",
   "execution_count": 4,
   "metadata": {},
   "outputs": [],
   "source": [
    "hourly_weather = pd.read_csv(os.path.join(DATA_ROOT, \"weather_hourly_darksky.csv\"))\n",
    "daily_weather  = pd.read_csv(os.path.join(DATA_ROOT, \"weather_daily_darksky.csv\"))\n",
    "house          = pd.read_csv(os.path.join(DATA_ROOT, \"informations_households.csv\"))\n",
    "holidays       = pd.read_csv(os.path.join(DATA_ROOT, \"uk_bank_holidays.csv\"))"
   ]
  },
  {
   "cell_type": "code",
   "execution_count": 5,
   "metadata": {},
   "outputs": [],
   "source": [
    "hourly_weather.columns = [\"h_\"+ c for c in hourly_weather.columns]\n",
    "hourly_weather.rename(columns={\"h_time\":\"time\"}, inplace=True)"
   ]
  },
  {
   "cell_type": "code",
   "execution_count": 6,
   "metadata": {},
   "outputs": [],
   "source": [
    "df = pd.merge(df, house, on='LCLid', how='left')"
   ]
  },
  {
   "cell_type": "code",
   "execution_count": 7,
   "metadata": {},
   "outputs": [],
   "source": [
    "df = pd.merge(df, hourly_weather, on='time',  how='left')"
   ]
  },
  {
   "cell_type": "code",
   "execution_count": 8,
   "metadata": {},
   "outputs": [],
   "source": [
    "df['month']=[ int(v[5:7]) for v in df['tstp'].values]\n",
    "df['dayofweek']=[datetime.strptime(v[:-6], '%Y-%m-%d %H:%M:%S.%f').weekday()  for v in df['tstp'].values]"
   ]
  },
  {
   "cell_type": "code",
   "execution_count": 9,
   "metadata": {},
   "outputs": [],
   "source": [
    "hols = holidays['Bank holidays'].values\n",
    "df['isHoliday']=[v[:10] in hols  for v in df['tstp'].values]"
   ]
  },
  {
   "cell_type": "code",
   "execution_count": 10,
   "metadata": {},
   "outputs": [],
   "source": [
    "def half_hour_of_day(datestring, formatstr='%Y-%m-%d %H:%M:%S.%f', stripChars=6):\n",
    "    if stripChars>0:\n",
    "        tmp = datetime.strptime(datestring[:-stripChars], formatstr)\n",
    "    else:\n",
    "        tmp = datetime.strptime(datestring, formatstr)\n",
    "    return 2*(tmp.hour + (tmp.minute /60.0))"
   ]
  },
  {
   "cell_type": "code",
   "execution_count": 11,
   "metadata": {},
   "outputs": [],
   "source": [
    "def minute_of_day(datestring, formatstr='%Y-%m-%d %H:%M:%S.%f', stripChars=6):\n",
    "    if type(datestring)==float:\n",
    "        return np.nan\n",
    "    if stripChars>0:\n",
    "        tmp = datetime.strptime(datestring[:-stripChars], formatstr)\n",
    "    else:\n",
    "        tmp = datetime.strptime(datestring, formatstr)\n",
    "    return ((tmp.hour*60) + tmp.minute )"
   ]
  },
  {
   "cell_type": "code",
   "execution_count": 12,
   "metadata": {},
   "outputs": [],
   "source": [
    "def get_ts_int(datestring, formatstr='%Y-%m-%d %H:%M:%S.%f', stripChars=6):\n",
    "    if type(datestring)==float:\n",
    "        return np.nan\n",
    "    if stripChars>0:\n",
    "        tmp = datetime.strptime(datestring[:-stripChars], formatstr)\n",
    "    else:\n",
    "        tmp = datetime.strptime(datestring, formatstr)\n",
    "    start = datetime(2000,1, 1 )\n",
    "    delta = tmp-start\n",
    "    return delta.days*24*3600 + delta.seconds"
   ]
  },
  {
   "cell_type": "code",
   "execution_count": 13,
   "metadata": {},
   "outputs": [],
   "source": [
    "df['halfhourofday'] = df.tstp.apply(lambda x: half_hour_of_day(x) )\n",
    "df['date']=[ v[:10] for v in df['tstp'].values]  "
   ]
  },
  {
   "cell_type": "code",
   "execution_count": 14,
   "metadata": {},
   "outputs": [],
   "source": [
    "df['ts_int'] = df.tstp.apply(lambda x: get_ts_int(x))"
   ]
  },
  {
   "cell_type": "code",
   "execution_count": 15,
   "metadata": {},
   "outputs": [],
   "source": [
    "daily_weather['month']=[ int(v[5:7]) for v in daily_weather['time'].values]\n",
    "def convert_time_cols(data_frame, column_name):\n",
    "    data_frame[column_name+ \"_mod\"] = data_frame[column_name].apply(lambda x: minute_of_day(x, formatstr='%Y-%m-%d %H:%M:%S', stripChars=0) )\n",
    "\n",
    "for c in ['temperatureMinTime', 'temperatureMaxTime', 'apparentTemperatureMinTime','apparentTemperatureMaxTime','temperatureHighTime','temperatureLowTime','apparentTemperatureHighTime','apparentTemperatureLowTime','sunsetTime','sunriseTime','uvIndexTime']:\n",
    "    convert_time_cols(daily_weather, c)\n",
    "daily_weather['date']=[ v[:10] for v in daily_weather['temperatureMinTime'].values]  \n",
    "daily_weather.fillna(method='ffill', inplace=True)    "
   ]
  },
  {
   "cell_type": "code",
   "execution_count": 16,
   "metadata": {},
   "outputs": [],
   "source": [
    "df = pd.merge(df, daily_weather, on='date', how='left')"
   ]
  },
  {
   "cell_type": "code",
   "execution_count": 17,
   "metadata": {},
   "outputs": [],
   "source": [
    "df.sort_values(by='ts_int', ascending=True, inplace=True)"
   ]
  },
  {
   "cell_type": "code",
   "execution_count": 18,
   "metadata": {},
   "outputs": [],
   "source": [
    "#fill the missing half hour rows\n",
    "hcols =['h_visibility', 'h_windBearing', 'h_temperature','h_dewPoint', 'h_pressure', 'h_apparentTemperature', 'h_windSpeed',\n",
    "       'h_precipType', 'h_icon', 'h_humidity', 'h_summary']\n",
    "df[hcols]= df[hcols].ffill()"
   ]
  },
  {
   "cell_type": "markdown",
   "metadata": {},
   "source": [
    "#run this to display a row from the main df \n",
    "for c in  df.columns:\n",
    "    print(str(df.loc[3][c]) +  \"____________________________\" + c)  "
   ]
  },
  {
   "cell_type": "code",
   "execution_count": 20,
   "metadata": {},
   "outputs": [],
   "source": [
    "label_col = 'energy(kWh/hh)'\n",
    "categorical_cols = ['LCLid', 'stdorToU', 'Acorn_grouped', 'Acorn', 'summary', 'h_summary', 'icon', 'h_icon', 'h_precipType']\n",
    "numeric_cols = ['h_visibility','h_windBearing','h_temperature','h_dewPoint','h_pressure','h_apparentTemperature'\n",
    ",'h_windSpeed','h_humidity','month_x','dayofweek','isHoliday','halfhourofday','temperatureMax'\n",
    ",'windBearing','dewPoint','cloudCover','windSpeed','pressure','apparentTemperatureHigh','visibility','humidity','apparentTemperatureLow'\n",
    ",'apparentTemperatureMax','uvIndex','temperatureLow','temperatureMin','temperatureHigh','apparentTemperatureMin'\n",
    ",'moonPhase','temperatureMinTime_mod','temperatureMaxTime_mod','apparentTemperatureMinTime_mod','apparentTemperatureMaxTime_mod'\n",
    ",'temperatureHighTime_mod','temperatureLowTime_mod','apparentTemperatureHighTime_mod','apparentTemperatureLowTime_mod'\n",
    ",'sunsetTime_mod','sunriseTime_mod','uvIndexTime_mod']\n"
   ]
  },
  {
   "cell_type": "code",
   "execution_count": 22,
   "metadata": {},
   "outputs": [],
   "source": [
    "for c in categorical_cols:\n",
    "    df[c] = df[c].astype(\"category\").cat.codes"
   ]
  },
  {
   "cell_type": "code",
   "execution_count": 33,
   "metadata": {},
   "outputs": [],
   "source": [
    "allcols = np.concatenate([categorical_cols ,  numeric_cols ]).tolist()\n",
    "allcols.append(label_col)"
   ]
  },
  {
   "cell_type": "code",
   "execution_count": 36,
   "metadata": {},
   "outputs": [],
   "source": [
    "df[allcols].to_csv('nn_input.csv', index=False)"
   ]
  }
 ],
 "metadata": {
  "kernelspec": {
   "display_name": "Python2 (res)",
   "language": "python",
   "name": "dicomenv"
  },
  "language_info": {
   "codemirror_mode": {
    "name": "ipython",
    "version": 2
   },
   "file_extension": ".py",
   "mimetype": "text/x-python",
   "name": "python",
   "nbconvert_exporter": "python",
   "pygments_lexer": "ipython2",
   "version": "2.7.12"
  }
 },
 "nbformat": 4,
 "nbformat_minor": 2
}
