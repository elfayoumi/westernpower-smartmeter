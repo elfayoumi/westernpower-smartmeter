{
 "cells": [
  {
   "cell_type": "code",
   "execution_count": 24,
   "metadata": {},
   "outputs": [],
   "source": [
    "import pandas as pd\n",
    "import numpy as np\n",
    "import os\n",
    "import matplotlib.pyplot as plt\n",
    "from datetime import datetime\n",
    "import bcolz\n",
    "import shutil\n",
    "import pickle"
   ]
  },
  {
   "cell_type": "code",
   "execution_count": 2,
   "metadata": {},
   "outputs": [],
   "source": [
    "label_col = 'energy(kWh/hh)'\n",
    "categorical_cols = ['LCLid', 'stdorToU', 'Acorn_grouped', 'Acorn', 'summary', 'h_summary', 'icon', 'h_icon', 'h_precipType']\n",
    "numeric_cols = ['h_visibility','h_windBearing','h_temperature','h_dewPoint','h_pressure','h_apparentTemperature'\n",
    ",'h_windSpeed','h_humidity','month_x','dayofweek','isHoliday','halfhourofday','temperatureMax'\n",
    ",'windBearing','dewPoint','cloudCover','windSpeed','pressure','apparentTemperatureHigh','visibility','humidity','apparentTemperatureLow'\n",
    ",'apparentTemperatureMax','uvIndex','temperatureLow','temperatureMin','temperatureHigh','apparentTemperatureMin'\n",
    ",'moonPhase','temperatureMinTime_mod','temperatureMaxTime_mod','apparentTemperatureMinTime_mod','apparentTemperatureMaxTime_mod'\n",
    ",'temperatureHighTime_mod','temperatureLowTime_mod','apparentTemperatureHighTime_mod','apparentTemperatureLowTime_mod'\n",
    ",'sunsetTime_mod','sunriseTime_mod','uvIndexTime_mod']\n",
    "allcols = np.concatenate([categorical_cols ,  numeric_cols ]).tolist()\n",
    "allcols.append(label_col)\n",
    "cat_map= dict()\n",
    "for c in categorical_cols:\n",
    "    cat_map[c]=dict()"
   ]
  },
  {
   "cell_type": "code",
   "execution_count": 3,
   "metadata": {},
   "outputs": [],
   "source": [
    "def getvalue_for_column(colname,value):\n",
    "    global cat_map\n",
    "    if not value in cat_map[colname].keys():\n",
    "        td = cat_map[colname]\n",
    "        cnt = len(td.values())\n",
    "        td[value]=cnt+1\n",
    "        cat_map[colname]=td\n",
    "    return cat_map[colname][value]"
   ]
  },
  {
   "cell_type": "code",
   "execution_count": 4,
   "metadata": {},
   "outputs": [],
   "source": [
    "def half_hour_of_day(datestring, formatstr='%Y-%m-%d %H:%M:%S.%f', stripChars=6):\n",
    "    if stripChars>0:\n",
    "        tmp = datetime.strptime(datestring[:-stripChars], formatstr)\n",
    "    else:\n",
    "        tmp = datetime.strptime(datestring, formatstr)\n",
    "    return 2*(tmp.hour + (tmp.minute /60.0))"
   ]
  },
  {
   "cell_type": "code",
   "execution_count": 5,
   "metadata": {},
   "outputs": [],
   "source": [
    "def minute_of_day(datestring, formatstr='%Y-%m-%d %H:%M:%S.%f', stripChars=6):\n",
    "    if type(datestring)==float:\n",
    "        return np.nan\n",
    "    if stripChars>0:\n",
    "        tmp = datetime.strptime(datestring[:-stripChars], formatstr)\n",
    "    else:\n",
    "        tmp = datetime.strptime(datestring, formatstr)\n",
    "    return ((tmp.hour*60) + tmp.minute )"
   ]
  },
  {
   "cell_type": "code",
   "execution_count": 6,
   "metadata": {},
   "outputs": [],
   "source": [
    "def get_ts_int(datestring, formatstr='%Y-%m-%d %H:%M:%S.%f', stripChars=6):\n",
    "    if type(datestring)==float:\n",
    "        return np.nan\n",
    "    if stripChars>0:\n",
    "        tmp = datetime.strptime(datestring[:-stripChars], formatstr)\n",
    "    else:\n",
    "        tmp = datetime.strptime(datestring, formatstr)\n",
    "    start = datetime(2000,1, 1 )\n",
    "    delta = tmp-start\n",
    "    return delta.days*24*3600 + delta.seconds"
   ]
  },
  {
   "cell_type": "code",
   "execution_count": 7,
   "metadata": {},
   "outputs": [],
   "source": [
    "def convert_time_cols(data_frame, column_name):\n",
    "    data_frame[column_name+ \"_mod\"] = data_frame[column_name].apply(lambda x: minute_of_day(x, formatstr='%Y-%m-%d %H:%M:%S', stripChars=0) )"
   ]
  },
  {
   "cell_type": "code",
   "execution_count": 8,
   "metadata": {},
   "outputs": [],
   "source": [
    "DATA_ROOT = \"data\"\n",
    "BLOCK_PATH = os.path.join(DATA_ROOT,'halfhourly_dataset') \n",
    "BLOCKS = os.listdir(BLOCK_PATH)"
   ]
  },
  {
   "cell_type": "code",
   "execution_count": 9,
   "metadata": {},
   "outputs": [],
   "source": [
    "def persist_bcolz(chunk_number, data, processed_data_dir):\n",
    "    if chunk_number == 0:\n",
    "        if os.path.isdir(processed_data_dir):\n",
    "            shutil.rmtree(processed_data_dir)\n",
    "        da = bcolz.carray(data, rootdir=processed_data_dir)\n",
    "        da.flush()\n",
    "    else: \n",
    "        da = bcolz.open(rootdir=processed_data_dir, mode='w')\n",
    "        da.append(data)\n",
    "        da.flush()    "
   ]
  },
  {
   "cell_type": "code",
   "execution_count": 10,
   "metadata": {},
   "outputs": [],
   "source": [
    "hourly_weather = pd.read_csv(os.path.join(DATA_ROOT, \"weather_hourly_darksky.csv\"))\n",
    "daily_weather  = pd.read_csv(os.path.join(DATA_ROOT, \"weather_daily_darksky.csv\"))\n",
    "house          = pd.read_csv(os.path.join(DATA_ROOT, \"informations_households.csv\"))\n",
    "holidays       = pd.read_csv(os.path.join(DATA_ROOT, \"uk_bank_holidays.csv\"))"
   ]
  },
  {
   "cell_type": "code",
   "execution_count": 11,
   "metadata": {},
   "outputs": [],
   "source": [
    "hourly_weather.columns = [\"h_\"+ c for c in hourly_weather.columns]\n",
    "hourly_weather.rename(columns={\"h_time\":\"time\"}, inplace=True)\n",
    "hols = holidays['Bank holidays'].values"
   ]
  },
  {
   "cell_type": "code",
   "execution_count": 12,
   "metadata": {},
   "outputs": [],
   "source": [
    "daily_weather['month']=[ int(v[5:7]) for v in daily_weather['time'].values]\n",
    "for c in ['temperatureMinTime', 'temperatureMaxTime', 'apparentTemperatureMinTime','apparentTemperatureMaxTime','temperatureHighTime','temperatureLowTime','apparentTemperatureHighTime','apparentTemperatureLowTime','sunsetTime','sunriseTime','uvIndexTime']:\n",
    "    convert_time_cols(daily_weather, c)\n",
    "daily_weather['date']=[ v[:10] for v in daily_weather['temperatureMinTime'].values]  \n",
    "daily_weather.fillna(method='ffill', inplace=True)    "
   ]
  },
  {
   "cell_type": "code",
   "execution_count": 13,
   "metadata": {},
   "outputs": [],
   "source": [
    "## per block operations\n",
    "def feature_eng(df):\n",
    "    df['time']=  df['tstp'].astype(str).str[:19]\n",
    "    df = pd.merge(df, house, on='LCLid', how='left')\n",
    "    df = pd.merge(df, hourly_weather, on='time',  how='left')\n",
    "    df['month']=[ int(v[5:7]) for v in df['tstp'].values]\n",
    "    df['dayofweek']=[datetime.strptime(v[:-6], '%Y-%m-%d %H:%M:%S.%f').weekday()  for v in df['tstp'].values]\n",
    "    df['isHoliday']=[v[:10] in hols  for v in df['tstp'].values]\n",
    "    df['halfhourofday'] = df.tstp.apply(lambda x: half_hour_of_day(x) )\n",
    "    df['date']=[ v[:10] for v in df['tstp'].values] \n",
    "    df['ts_int'] = df.tstp.apply(lambda x: get_ts_int(x))\n",
    "    df = pd.merge(df, daily_weather, on='date', how='left')\n",
    "    df.sort_values(by='ts_int', ascending=True, inplace=True)\n",
    "    hcols =['h_visibility', 'h_windBearing', 'h_temperature','h_dewPoint', 'h_pressure', 'h_apparentTemperature', 'h_windSpeed',\n",
    "       'h_precipType', 'h_icon', 'h_humidity', 'h_summary']\n",
    "    df[hcols]= df[hcols].ffill()\n",
    "    df[label_col] = pd.to_numeric(df[label_col], errors='coerce')\n",
    "    for c in categorical_cols:  # convert cat columns to ints\n",
    "        df[c] = df[c].apply(lambda x: getvalue_for_column(c,x))\n",
    "    return df[allcols]"
   ]
  },
  {
   "cell_type": "code",
   "execution_count": null,
   "metadata": {},
   "outputs": [
    {
     "name": "stdout",
     "output_type": "stream",
     "text": [
      "starting  block  0\n",
      "completed block  0\n",
      "starting  block  1\n",
      "completed block  1\n",
      "starting  block  2\n",
      "completed block  2\n",
      "starting  block  3\n"
     ]
    }
   ],
   "source": [
    "for i, block in enumerate (BLOCKS):\n",
    "    print (\"starting  block \", i)\n",
    "    ddf = pd.read_csv(os.path.join(BLOCK_PATH,block))\n",
    "    df = feature_eng(ddf)\n",
    "    persist_bcolz(i,df[allcols].values.astype(np.float32), 'data/processed_main')\n",
    "    del ddf\n",
    "    del df\n",
    "    print (\"completed block \", i)    \n",
    "# save the string mapping dictionary    \n",
    "with open(\"data/cat_map.pkl\", \"wb\") as output_file:\n",
    "       pickle.dump(cat_map, output_file)"
   ]
  }
 ],
 "metadata": {
  "kernelspec": {
   "display_name": "fastai",
   "language": "python",
   "name": "fastai"
  },
  "language_info": {
   "codemirror_mode": {
    "name": "ipython",
    "version": 3
   },
   "file_extension": ".py",
   "mimetype": "text/x-python",
   "name": "python",
   "nbconvert_exporter": "python",
   "pygments_lexer": "ipython3",
   "version": "3.6.5"
  }
 },
 "nbformat": 4,
 "nbformat_minor": 2
}
