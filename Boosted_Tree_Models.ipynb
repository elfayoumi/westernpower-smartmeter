{
 "cells": [
  {
   "cell_type": "markdown",
   "metadata": {},
   "source": [
    "## Try Regression with some boosted tree Models "
   ]
  },
  {
   "cell_type": "code",
   "execution_count": 1,
   "metadata": {},
   "outputs": [
    {
     "name": "stderr",
     "output_type": "stream",
     "text": [
      "/home/ubuntu/anaconda3/envs/fastai/lib/python3.6/site-packages/matplotlib/__init__.py:1067: UserWarning: Duplicate key in file \"/home/ubuntu/.config/matplotlib/matplotlibrc\", line #2\n",
      "  (fname, cnt))\n",
      "/home/ubuntu/anaconda3/envs/fastai/lib/python3.6/site-packages/matplotlib/__init__.py:1067: UserWarning: Duplicate key in file \"/home/ubuntu/.config/matplotlib/matplotlibrc\", line #3\n",
      "  (fname, cnt))\n",
      "/home/ubuntu/anaconda3/envs/fastai/lib/python3.6/importlib/_bootstrap.py:219: RuntimeWarning: numpy.dtype size changed, may indicate binary incompatibility. Expected 96, got 88\n",
      "  return f(*args, **kwds)\n"
     ]
    }
   ],
   "source": [
    "import xgboost as xgb\n",
    "import lightgbm as lgb\n",
    "from catboost import CatBoostRegressor\n",
    "import bcolz\n",
    "import numpy as np"
   ]
  },
  {
   "cell_type": "code",
   "execution_count": 12,
   "metadata": {},
   "outputs": [],
   "source": [
    "def rmse(predictions, targets):\n",
    "    return np.sqrt(((predictions - targets) ** 2).mean())"
   ]
  },
  {
   "cell_type": "code",
   "execution_count": 2,
   "metadata": {},
   "outputs": [],
   "source": [
    "def run_xgb(train_X, train_y, val_X, val_y, test_X):\n",
    "    params = {'objective': 'reg:linear', \n",
    "          'eval_metric': 'rmse',\n",
    "          'eta': 0.001,\n",
    "          'max_depth': 10, \n",
    "          'subsample': 0.6, \n",
    "          'colsample_bytree': 0.6,\n",
    "          'alpha':0.001,\n",
    "          'random_state': 42, \n",
    "          'silent': True}\n",
    "    \n",
    "    tr_data = xgb.DMatrix(train_X, train_y)\n",
    "    va_data = xgb.DMatrix(val_X, val_y)\n",
    "    \n",
    "    watchlist = [(tr_data, 'train'), (va_data, 'valid')]\n",
    "    \n",
    "    model_xgb = xgb.train(params, tr_data, 2000, watchlist, maximize=False, early_stopping_rounds = 100, verbose_eval=100)\n",
    "    \n",
    "    dtest = xgb.DMatrix(test_X)\n",
    "    xgb_pred_y = model_xgb.predict(dtest, ntree_limit=model_xgb.best_ntree_limit)\n",
    "    \n",
    "    return xgb_pred_y, model_xgb"
   ]
  },
  {
   "cell_type": "code",
   "execution_count": 3,
   "metadata": {},
   "outputs": [],
   "source": [
    "def run_lgb(train_X, train_y, val_X, val_y, test_X):\n",
    "    params = {\n",
    "        \"objective\" : \"regression\",\"metric\" : \"rmse\",\"num_leaves\" : 40,\n",
    "        \"learning_rate\" : 0.005,\"bagging_fraction\" : 0.6,\"feature_fraction\" : 0.6,\n",
    "        \"bagging_frequency\" : 6,\"bagging_seed\" : 42,\"verbosity\" : -1,\"seed\": 42\n",
    "    }\n",
    "    \n",
    "    lgtrain = lgb.Dataset(train_X, label=train_y)\n",
    "    lgval = lgb.Dataset(val_X, label=val_y)\n",
    "    evals_result = {}\n",
    "    model = lgb.train(params, lgtrain, 5000, \n",
    "                      valid_sets=[lgtrain, lgval], \n",
    "                      early_stopping_rounds=100, \n",
    "                      verbose_eval=150, \n",
    "                      evals_result=evals_result)\n",
    "    \n",
    "    pred_test_y = model.predict(test_X, num_iteration=model.best_iteration)\n",
    "    return pred_test_y, model, evals_result"
   ]
  },
  {
   "cell_type": "code",
   "execution_count": 4,
   "metadata": {},
   "outputs": [],
   "source": [
    "cb_model = CatBoostRegressor(iterations=500,\n",
    "                             learning_rate=0.05,\n",
    "                             depth=10,\n",
    "                             eval_metric='RMSE',\n",
    "                             random_seed = 42,\n",
    "                             bagging_temperature = 0.2,\n",
    "                             od_type='Iter',\n",
    "                             metric_period = 50,\n",
    "                             od_wait=20)"
   ]
  },
  {
   "cell_type": "markdown",
   "metadata": {},
   "source": [
    "### Get Training Data "
   ]
  },
  {
   "cell_type": "code",
   "execution_count": 51,
   "metadata": {},
   "outputs": [],
   "source": [
    "def GetTrainingData(num_rows, val_fraction, test_fraction):\n",
    "    val_size = int(num_rows*val_fraction)\n",
    "    test_size = int(num_rows*test_fraction)\n",
    "    train_size = num_rows - ( val_size + test_size)\n",
    "    da = bcolz.open(rootdir='data/processed_main', mode='r')\n",
    "    X = da[:train_size,:-1]\n",
    "    Y = da[:train_size,-1:]\n",
    "    Xv = da[train_size:train_size+val_size,:-1]\n",
    "    Yv = da[train_size:train_size+val_size,-1:]\n",
    "    Xt = da[train_size+val_size:train_size+val_size+test_size,:-1]\n",
    "    Yt = da[train_size+val_size:train_size+val_size+test_size,-1:]\n",
    "    X=np.nan_to_num(X)\n",
    "    Y=np.nan_to_num(Y)\n",
    "    Xv=np.nan_to_num(Xv)\n",
    "    Yv=np.nan_to_num(Yv)\n",
    "    Xt=np.nan_to_num(Xt)\n",
    "    return X, Y[:,0], Xv, Yv[:,0], Xt, Yt[:,0]        "
   ]
  },
  {
   "cell_type": "code",
   "execution_count": 52,
   "metadata": {},
   "outputs": [],
   "source": [
    "dev_X, dev_y, val_X, val_y, X_test, Y_test = GetTrainingData(100000, 0.2, 0.1)"
   ]
  },
  {
   "cell_type": "markdown",
   "metadata": {},
   "source": [
    "### Run Cat Boost "
   ]
  },
  {
   "cell_type": "code",
   "execution_count": 53,
   "metadata": {},
   "outputs": [
    {
     "name": "stderr",
     "output_type": "stream",
     "text": [
      "Warning: Overfitting detector is active, thus evaluation metric iscalculated on every iteration. 'metric_period' is ignored for evaluation metric.\n"
     ]
    },
    {
     "name": "stdout",
     "output_type": "stream",
     "text": [
      "0:\tlearn: 0.6040799\ttest: 0.4723125\tbest: 0.4723125 (0)\ttotal: 33.4ms\tremaining: 16.7s\n",
      "50:\tlearn: 0.5094505\ttest: 0.4088016\tbest: 0.4084841 (38)\ttotal: 1.72s\tremaining: 15.1s\n",
      "Stopped by overfitting detector  (20 iterations wait)\n",
      "\n",
      "bestTest = 0.4084840915\n",
      "bestIteration = 38\n",
      "\n",
      "Shrink model to first 39 iterations.\n"
     ]
    },
    {
     "data": {
      "text/plain": [
       "<catboost.core.CatBoostRegressor at 0x7fbc7b891240>"
      ]
     },
     "execution_count": 53,
     "metadata": {},
     "output_type": "execute_result"
    }
   ],
   "source": [
    "cb_model.fit(dev_X, dev_y,\n",
    "             eval_set=(val_X, val_y),\n",
    "             use_best_model=True,\n",
    "             verbose=True)"
   ]
  },
  {
   "cell_type": "code",
   "execution_count": 8,
   "metadata": {},
   "outputs": [],
   "source": [
    "pred_test_cat = cb_model.predict(X_test)"
   ]
  },
  {
   "cell_type": "markdown",
   "metadata": {},
   "source": [
    "### Run XGBoost  (slow to train) "
   ]
  },
  {
   "cell_type": "code",
   "execution_count": 9,
   "metadata": {},
   "outputs": [
    {
     "name": "stdout",
     "output_type": "stream",
     "text": [
      "XGB Training Starting\n",
      "[0]\ttrain-rmse:0.548405\tvalid-rmse:0.483846\n",
      "Multiple eval metrics have been passed: 'valid-rmse' will be used for early stopping.\n",
      "\n",
      "Will train until valid-rmse hasn't improved in 100 rounds.\n",
      "[100]\ttrain-rmse:0.525833\tvalid-rmse:0.463077\n",
      "[200]\ttrain-rmse:0.500808\tvalid-rmse:0.441138\n",
      "[300]\ttrain-rmse:0.479745\tvalid-rmse:0.422966\n",
      "[400]\ttrain-rmse:0.459529\tvalid-rmse:0.405569\n",
      "[500]\ttrain-rmse:0.441542\tvalid-rmse:0.390173\n",
      "[600]\ttrain-rmse:0.424873\tvalid-rmse:0.376375\n",
      "[700]\ttrain-rmse:0.409289\tvalid-rmse:0.363958\n",
      "[800]\ttrain-rmse:0.39606\tvalid-rmse:0.353212\n",
      "[900]\ttrain-rmse:0.383022\tvalid-rmse:0.342853\n",
      "[1000]\ttrain-rmse:0.371063\tvalid-rmse:0.333726\n",
      "[1100]\ttrain-rmse:0.359893\tvalid-rmse:0.32526\n",
      "[1200]\ttrain-rmse:0.350912\tvalid-rmse:0.318485\n",
      "[1300]\ttrain-rmse:0.3408\tvalid-rmse:0.311264\n",
      "[1400]\ttrain-rmse:0.330181\tvalid-rmse:0.304076\n",
      "[1500]\ttrain-rmse:0.321495\tvalid-rmse:0.298129\n",
      "[1600]\ttrain-rmse:0.312943\tvalid-rmse:0.292487\n",
      "[1700]\ttrain-rmse:0.305395\tvalid-rmse:0.287768\n",
      "[1800]\ttrain-rmse:0.297957\tvalid-rmse:0.283348\n",
      "[1900]\ttrain-rmse:0.291373\tvalid-rmse:0.279345\n",
      "[1999]\ttrain-rmse:0.285085\tvalid-rmse:0.275636\n",
      "XGB Training Completed...\n"
     ]
    }
   ],
   "source": [
    "print(\"XGB Training Starting\")\n",
    "pred_test_xgb, model_xgb = run_xgb(dev_X, dev_y, val_X, val_y, X_test)\n",
    "print(\"XGB Training Completed...\")"
   ]
  },
  {
   "cell_type": "markdown",
   "metadata": {},
   "source": [
    "### Run LightGBM"
   ]
  },
  {
   "cell_type": "code",
   "execution_count": 10,
   "metadata": {},
   "outputs": [
    {
     "name": "stdout",
     "output_type": "stream",
     "text": [
      "Training until validation scores don't improve for 100 rounds.\n",
      "[150]\ttraining's rmse: 0.423255\tvalid_1's rmse: 0.34762\n",
      "[300]\ttraining's rmse: 0.352517\tvalid_1's rmse: 0.297746\n",
      "[450]\ttraining's rmse: 0.310828\tvalid_1's rmse: 0.268979\n",
      "[600]\ttraining's rmse: 0.28662\tvalid_1's rmse: 0.255019\n",
      "[750]\ttraining's rmse: 0.271747\tvalid_1's rmse: 0.248299\n",
      "[900]\ttraining's rmse: 0.261388\tvalid_1's rmse: 0.244779\n",
      "[1050]\ttraining's rmse: 0.256273\tvalid_1's rmse: 0.243584\n",
      "[1200]\ttraining's rmse: 0.252297\tvalid_1's rmse: 0.242698\n",
      "[1350]\ttraining's rmse: 0.250161\tvalid_1's rmse: 0.242368\n",
      "[1500]\ttraining's rmse: 0.248107\tvalid_1's rmse: 0.241888\n",
      "[1650]\ttraining's rmse: 0.245379\tvalid_1's rmse: 0.241296\n",
      "[1800]\ttraining's rmse: 0.242822\tvalid_1's rmse: 0.240924\n",
      "[1950]\ttraining's rmse: 0.240284\tvalid_1's rmse: 0.240708\n",
      "[2100]\ttraining's rmse: 0.238128\tvalid_1's rmse: 0.240768\n",
      "Early stopping, best iteration is:\n",
      "[2007]\ttraining's rmse: 0.239454\tvalid_1's rmse: 0.240675\n",
      "LightGBM Training Completed...\n"
     ]
    }
   ],
   "source": [
    "# Training LGB\n",
    "pred_test, model, evals_result = run_lgb(dev_X, dev_y, val_X, val_y, X_test)\n",
    "print(\"LightGBM Training Completed...\")"
   ]
  },
  {
   "cell_type": "code",
   "execution_count": 30,
   "metadata": {},
   "outputs": [
    {
     "name": "stdout",
     "output_type": "stream",
     "text": [
      "RMSE is  0.2547276608342758\n"
     ]
    }
   ],
   "source": [
    "ensemble_test = (pred_test_cat*0.1) + (pred_test * 0.8) +  (pred_test_xgb*0.1)\n",
    "rmse_result = rmse(ensemble_test,Y_test)\n",
    "print (\"RMSE is \", rmse_result )"
   ]
  },
  {
   "cell_type": "code",
   "execution_count": 26,
   "metadata": {},
   "outputs": [],
   "source": [
    "import matplotlib.pyplot as plt"
   ]
  },
  {
   "cell_type": "code",
   "execution_count": 44,
   "metadata": {},
   "outputs": [
    {
     "data": {
      "image/png": "[encoded data removed]",
      "text/plain": [
       "<Figure size 432x288 with 1 Axes>"
      ]
     },
     "metadata": {},
     "output_type": "display_data"
    },
    {
     "data": {
      "image/png": "[encoded data removed]",
      "text/plain": [
       "<Figure size 432x288 with 1 Axes>"
      ]
     },
     "metadata": {},
     "output_type": "display_data"
    }
   ],
   "source": [
    "plt.plot(ensemble_test)\n",
    "plt.plot(Y_test)\n",
    "plt.show()\n",
    "\n",
    "plt.scatter(Y_test, ensemble_test, c='green', s=1)\n",
    "plt.plot([0,6],[0,6], c= \"red\", marker='.', linestyle=':')\n",
    "plt.axis([0,6 , 0, 6])\n",
    "plt.show()\n"
   ]
  }
 ],
 "metadata": {
  "kernelspec": {
   "display_name": "fastai",
   "language": "python",
   "name": "fastai"
  },
  "language_info": {
   "codemirror_mode": {
    "name": "ipython",
    "version": 3
   },
   "file_extension": ".py",
   "mimetype": "text/x-python",
   "name": "python",
   "nbconvert_exporter": "python",
   "pygments_lexer": "ipython3",
   "version": "3.6.5"
  }
 },
 "nbformat": 4,
 "nbformat_minor": 2
}
